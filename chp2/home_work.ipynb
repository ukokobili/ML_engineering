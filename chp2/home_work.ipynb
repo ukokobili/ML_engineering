{
 "cells": [
  {
   "cell_type": "markdown",
   "id": "daca861f",
   "metadata": {},
   "source": [
    "### California Housing Prices"
   ]
  },
  {
   "cell_type": "markdown",
   "id": "8cdbeef9",
   "metadata": {},
   "source": [
    "The goal of this homework is to create a regression model for predicting housing prices (column ```'median_house_value'```).\n",
    "###### EDA"
   ]
  },
  {
   "cell_type": "code",
   "execution_count": 1,
   "id": "96d21405",
   "metadata": {},
   "outputs": [],
   "source": [
    "# Load the libraries\n",
    "import pandas as pd\n",
    "import numpy as np\n",
    "\n",
    "import seaborn as sns\n",
    "from matplotlib import pyplot as plt\n",
    "%matplotlib inline"
   ]
  },
  {
   "cell_type": "code",
   "execution_count": 2,
   "id": "b8ba8023",
   "metadata": {},
   "outputs": [
    {
     "data": {
      "text/plain": [
       "20640"
      ]
     },
     "execution_count": 2,
     "metadata": {},
     "output_type": "execute_result"
    }
   ],
   "source": [
    "# Load the dataset.\n",
    "df = pd.read_csv('housing.csv')\n",
    "len(df)"
   ]
  },
  {
   "cell_type": "code",
   "execution_count": 3,
   "id": "78756041",
   "metadata": {},
   "outputs": [
    {
     "data": {
      "image/png": "[encoded data removed]",
      "text/plain": [
       "<Figure size 432x288 with 1 Axes>"
      ]
     },
     "metadata": {
      "needs_background": "light"
     },
     "output_type": "display_data"
    }
   ],
   "source": [
    "plt.figure(figsize=(6, 4))\n",
    "\n",
    "sns.histplot(df.median_house_value)\n",
    "plt.ylabel('Frequency')\n",
    "plt.xlabel('Price')\n",
    "plt.title('Distribution of prices')\n",
    "\n",
    "plt.show();"
   ]
  },
  {
   "cell_type": "code",
   "execution_count": 4,
   "id": "84bced21",
   "metadata": {},
   "outputs": [
    {
     "data": {
      "image/png": "[encoded data removed]",
      "text/plain": [
       "<Figure size 432x288 with 1 Axes>"
      ]
     },
     "metadata": {
      "needs_background": "light"
     },
     "output_type": "display_data"
    }
   ],
   "source": [
    "log_price = np.log1p(df.median_house_value)\n",
    "\n",
    "plt.figure(figsize=(6, 4))\n",
    "\n",
    "sns.histplot(log_price)\n",
    "plt.ylabel('Frequency')\n",
    "plt.xlabel('Log(Price + 1)')\n",
    "plt.title('Distribution of prices after log tranformation')\n",
    "\n",
    "plt.show();"
   ]
  },
  {
   "cell_type": "markdown",
   "id": "eed66597",
   "metadata": {},
   "source": [
    "###### Features\n",
    "For the rest of the homework, you'll need to use only these columns:"
   ]
  },
  {
   "cell_type": "code",
   "execution_count": 5,
   "id": "fce242aa",
   "metadata": {},
   "outputs": [
    {
     "data": {
      "text/plain": [
       "Index(['longitude', 'latitude', 'housing_median_age', 'total_rooms',\n",
       "       'total_bedrooms', 'population', 'households', 'median_income',\n",
       "       'median_house_value'],\n",
       "      dtype='object')"
      ]
     },
     "execution_count": 5,
     "metadata": {},
     "output_type": "execute_result"
    }
   ],
   "source": [
    "df = df.drop('ocean_proximity', axis = 1)\n",
    "df.columns"
   ]
  },
  {
   "cell_type": "markdown",
   "id": "ddd3c062",
   "metadata": {},
   "source": [
    "###### Question 1\n",
    "Find a feature with missing values. How many missing values does it have?"
   ]
  },
  {
   "cell_type": "code",
   "execution_count": 6,
   "id": "b84fdf5e",
   "metadata": {},
   "outputs": [
    {
     "data": {
      "text/plain": [
       "longitude               0\n",
       "latitude                0\n",
       "housing_median_age      0\n",
       "total_rooms             0\n",
       "total_bedrooms        207\n",
       "population              0\n",
       "households              0\n",
       "median_income           0\n",
       "median_house_value      0\n",
       "dtype: int64"
      ]
     },
     "execution_count": 6,
     "metadata": {},
     "output_type": "execute_result"
    }
   ],
   "source": [
    "df.isnull().sum()"
   ]
  },
  {
   "cell_type": "markdown",
   "id": "bdeecc2b",
   "metadata": {},
   "source": [
    "###### Question 2\n",
    "What's the median (50% percentile) for variable 'population'?"
   ]
  },
  {
   "cell_type": "code",
   "execution_count": 7,
   "id": "b7958368",
   "metadata": {},
   "outputs": [
    {
     "data": {
      "text/plain": [
       "count    20640.00\n",
       "mean      1425.48\n",
       "std       1132.46\n",
       "min          3.00\n",
       "25%        787.00\n",
       "50%       1166.00\n",
       "75%       1725.00\n",
       "max      35682.00\n",
       "Name: population, dtype: float64"
      ]
     },
     "execution_count": 7,
     "metadata": {},
     "output_type": "execute_result"
    }
   ],
   "source": [
    "df.population.describe().round(2)"
   ]
  },
  {
   "cell_type": "markdown",
   "id": "148b1099",
   "metadata": {},
   "source": [
    "###### Split the data"
   ]
  },
  {
   "cell_type": "code",
   "execution_count": 8,
   "id": "c2968ae1",
   "metadata": {},
   "outputs": [],
   "source": [
    "# Shuffle the initial dataset, use seed 42. [0, 1, 2, 3, 4, 5, 6, 7, 8, 9]\n",
    "np.random.seed(9)"
   ]
  },
  {
   "cell_type": "code",
   "execution_count": 9,
   "id": "5b024b4b",
   "metadata": {},
   "outputs": [],
   "source": [
    "# Split your data in train/val/test sets, with 60%/20%/20% distribution.\n",
    "n = len(df)\n",
    "\n",
    "n_val = int(0.2 * n)\n",
    "n_test = int(0.2 * n)\n",
    "n_train = n - (n_val + n_test)\n",
    "\n",
    "idx = np.arange(n)\n",
    "np.random.shuffle(idx)\n",
    "\n",
    "df_shuffled = df.iloc[idx]\n",
    "\n",
    "df_train = df_shuffled.iloc[:n_train].copy()\n",
    "df_val = df_shuffled.iloc[n_train:n_train+n_val].copy()\n",
    "df_test = df_shuffled.iloc[n_train+n_val:].copy()"
   ]
  },
  {
   "cell_type": "code",
   "execution_count": 10,
   "id": "cf88fb3c",
   "metadata": {},
   "outputs": [],
   "source": [
    "# Apply the log transformation to the median_house_value variable using the np.log1p() function.\n",
    "y_train_orig = df_train.median_house_value.values\n",
    "y_val_orig = df_val.median_house_value.values\n",
    "y_test_orig = df_test.median_house_value.values\n",
    "\n",
    "y_train = np.log1p(df_train.median_house_value.values)\n",
    "y_val = np.log1p(df_val.median_house_value.values)\n",
    "y_test = np.log1p(df_test.median_house_value.values)"
   ]
  },
  {
   "cell_type": "code",
   "execution_count": 11,
   "id": "4efc0dbd",
   "metadata": {},
   "outputs": [],
   "source": [
    "# Make sure that the target value ('median_house_value') is not in your dataframe.\n",
    "del df_train['median_house_value']\n",
    "del df_val['median_house_value']\n",
    "del df_test['median_house_value']"
   ]
  },
  {
   "cell_type": "markdown",
   "id": "c55c6651",
   "metadata": {},
   "source": [
    "###### Question 3"
   ]
  },
  {
   "cell_type": "code",
   "execution_count": 12,
   "id": "fcb66b08",
   "metadata": {},
   "outputs": [],
   "source": [
    "# We have two options: fill it with 0 or with the mean of this variable.\n",
    "def prepare_X(df):\n",
    "    df_num = df.fillna(0)\n",
    "    X = df_num.values\n",
    "    return X"
   ]
  },
  {
   "cell_type": "code",
   "execution_count": 13,
   "id": "a05d27b5",
   "metadata": {},
   "outputs": [],
   "source": [
    "# linear regression model\n",
    "def train_linear_regression(X, y):\n",
    "    ones = np.ones(X.shape[0])\n",
    "    X = np.column_stack([ones, X])\n",
    "\n",
    "    XTX = X.T.dot(X)\n",
    "    XTX_inv = np.linalg.inv(XTX)\n",
    "    w = XTX_inv.dot(X.T).dot(y)\n",
    "    \n",
    "    return w[0], w[1:]"
   ]
  },
  {
   "cell_type": "code",
   "execution_count": 14,
   "id": "e87d81b8",
   "metadata": {},
   "outputs": [],
   "source": [
    "# Try both options. For each, train a linear regression model without regularization using the code from the lessons."
   ]
  },
  {
   "cell_type": "code",
   "execution_count": 15,
   "id": "cb2f450d",
   "metadata": {},
   "outputs": [],
   "source": [
    "# root mean square error RMSE\n",
    "def rmse(y, y_pred):\n",
    "    error = y_pred - y\n",
    "    mse = (error ** 2).mean()\n",
    "    return np.sqrt(mse)"
   ]
  },
  {
   "cell_type": "code",
   "execution_count": 16,
   "id": "30274920",
   "metadata": {},
   "outputs": [
    {
     "name": "stdout",
     "output_type": "stream",
     "text": [
      "train 0.34\n",
      "validation 0.34\n"
     ]
    }
   ],
   "source": [
    "# Use the validation dataset to evaluate the models and compare the RMSE of each option.\n",
    "X_train = prepare_X(df_train)\n",
    "w_0, w = train_linear_regression(X_train, y_train)\n",
    "\n",
    "# Round the RMSE scores for the train to 2 decimal digits using round(score, 2)\n",
    "y_pred = w_0 + X_train.dot(w)\n",
    "print('train', rmse(y_train, y_pred).round(2))\n",
    "\n",
    "# Round the RMSE scores for the validation to 2 decimal digits using round(score, 2)\n",
    "\n",
    "X_val = prepare_X(df_val)\n",
    "y_pred = w_0 + X_val.dot(w)\n",
    "print('validation', rmse(y_val, y_pred).round(2))"
   ]
  },
  {
   "cell_type": "markdown",
   "id": "6ed98ef9",
   "metadata": {},
   "source": [
    "###### computing with the mean"
   ]
  },
  {
   "cell_type": "code",
   "execution_count": 17,
   "id": "87f796fe",
   "metadata": {},
   "outputs": [],
   "source": [
    "# For computing the mean, use the training only!\n",
    "def prepare_X(df):\n",
    "    df_num = df.fillna(df_train.mean())\n",
    "    X = df_num.values\n",
    "    return X"
   ]
  },
  {
   "cell_type": "code",
   "execution_count": 18,
   "id": "2d092d44",
   "metadata": {},
   "outputs": [
    {
     "name": "stdout",
     "output_type": "stream",
     "text": [
      "train 0.34\n",
      "validation 0.34\n"
     ]
    }
   ],
   "source": [
    "# Use the validation dataset to evaluate the models and compare the RMSE of each option.\n",
    "X_train = prepare_X(df_train)\n",
    "w_0, w = train_linear_regression(X_train, y_train)\n",
    "\n",
    "# Round the RMSE scores for the train to 2 decimal digits using round(score, 2)\n",
    "y_pred = w_0 + X_train.dot(w)\n",
    "print('train', rmse(y_train, y_pred).round(2))\n",
    "\n",
    "# Round the RMSE scores for the validation to 2 decimal digits using round(score, 2)\n",
    "\n",
    "X_val = prepare_X(df_val)\n",
    "y_pred = w_0 + X_val.dot(w)\n",
    "print('validation', rmse(y_val, y_pred).round(2))"
   ]
  },
  {
   "cell_type": "markdown",
   "id": "2202776b",
   "metadata": {},
   "source": [
    "###### computing with the median"
   ]
  },
  {
   "cell_type": "code",
   "execution_count": 19,
   "id": "0d41913a",
   "metadata": {},
   "outputs": [],
   "source": [
    "# For computing the median, use the training only!\n",
    "def prepare_X(df):\n",
    "    df_num = df.fillna(df_train.median())\n",
    "    X = df_num.values\n",
    "    return X"
   ]
  },
  {
   "cell_type": "code",
   "execution_count": 20,
   "id": "ec733302",
   "metadata": {},
   "outputs": [
    {
     "name": "stdout",
     "output_type": "stream",
     "text": [
      "train 0.34\n",
      "validation 0.34\n"
     ]
    }
   ],
   "source": [
    "# Use the validation dataset to evaluate the models and compare the RMSE of each option.\n",
    "X_train = prepare_X(df_train)\n",
    "w_0, w = train_linear_regression(X_train, y_train)\n",
    "\n",
    "# Round the RMSE scores for the train to 2 decimal digits using round(score, 2)\n",
    "y_pred = w_0 + X_train.dot(w)\n",
    "print('train', rmse(y_train, y_pred).round(2))\n",
    "\n",
    "# Round the RMSE scores for the validation to 2 decimal digits using round(score, 2)\n",
    "\n",
    "X_val = prepare_X(df_val)\n",
    "y_pred = w_0 + X_val.dot(w)\n",
    "print('validation', rmse(y_val, y_pred).round(2))"
   ]
  },
  {
   "cell_type": "markdown",
   "id": "0a9316d7",
   "metadata": {},
   "source": [
    "###### Question 4"
   ]
  },
  {
   "cell_type": "code",
   "execution_count": 21,
   "id": "4e22815f",
   "metadata": {},
   "outputs": [],
   "source": [
    "# Now let's train a regularized linear regression.\n",
    "def train_linear_regression_reg(X, y, r):\n",
    "    ones = np.ones(X.shape[0])\n",
    "    X = np.column_stack([ones, X])\n",
    "\n",
    "    XTX = X.T.dot(X)\n",
    "    reg = r * np.eye(XTX.shape[0])\n",
    "    XTX = XTX + reg\n",
    "\n",
    "    XTX_inv = np.linalg.inv(XTX)\n",
    "    w = XTX_inv.dot(X.T).dot(y)\n",
    "    \n",
    "    return w[0], w[1:]"
   ]
  },
  {
   "cell_type": "code",
   "execution_count": 22,
   "id": "46747694",
   "metadata": {},
   "outputs": [],
   "source": [
    "# For this question, fill the NAs with 0.\n",
    "def prepare_X(df):\n",
    "    df_num = df.fillna(0)\n",
    "    X = df_num.values\n",
    "    return X"
   ]
  },
  {
   "cell_type": "code",
   "execution_count": 23,
   "id": "ccc5353e",
   "metadata": {},
   "outputs": [
    {
     "name": "stdout",
     "output_type": "stream",
     "text": [
      "     0 0.34\n",
      " 1e-06 0.34\n",
      "0.0001 0.34\n",
      " 0.001 0.34\n",
      "  0.01 0.34\n",
      "   0.1 0.34\n",
      "     1 0.34\n",
      "     5 0.34\n",
      "    10 0.35\n"
     ]
    }
   ],
   "source": [
    "# Try different values of r from this list: [0, 0.000001, 0.0001, 0.001, 0.01, 0.1, 1, 5, 10].\n",
    "X_train = prepare_X(df_train)\n",
    "X_val = prepare_X(df_val)\n",
    "\n",
    "for r in [0, 0.000001, 0.0001, 0.001, 0.01, 0.1, 1, 5, 10]:\n",
    "    w_0, w = train_linear_regression_reg(X_train, y_train, r=r)\n",
    "    y_pred = w_0 + X_val.dot(w)\n",
    "    print('%6s' %r, rmse(y_val, y_pred).round(2))"
   ]
  },
  {
   "cell_type": "code",
   "execution_count": 24,
   "id": "dfd0cf3d",
   "metadata": {},
   "outputs": [
    {
     "name": "stdout",
     "output_type": "stream",
     "text": [
      "validation: 0.34\n",
      "test: 0.35\n"
     ]
    }
   ],
   "source": [
    "# Use RMSE to evaluate the model on the validation and test dataset.\n",
    "X_train = prepare_X(df_train)\n",
    "w_0, w = train_linear_regression_reg(X_train, y_train, r=0)\n",
    "\n",
    "X_val = prepare_X(df_val)\n",
    "y_pred = w_0 + X_val.dot(w)\n",
    "print('validation:', rmse(y_val, y_pred).round(2))\n",
    "\n",
    "X_test = prepare_X(df_test)\n",
    "y_pred = w_0 + X_test.dot(w)\n",
    "print('test:', rmse(y_test, y_pred).round(2))"
   ]
  },
  {
   "cell_type": "markdown",
   "id": "ebc4f9e9",
   "metadata": {},
   "source": [
    "###### Question 5"
   ]
  },
  {
   "cell_type": "code",
   "execution_count": 25,
   "id": "c8e4ab80",
   "metadata": {},
   "outputs": [],
   "source": [
    "# We used seed 42 for splitting the data. Let's find out how selecting the seed influences our score.\n",
    "# Try different seed values: [0, 1, 2, 3, 4, 5, 6, 7, 8, 9].\n",
    "x = [0.34, 0.34, 0.33, 0.34, 0.34, 0.34, 0.35, 0.34, 0.35, 0.34 ]"
   ]
  },
  {
   "cell_type": "code",
   "execution_count": 26,
   "id": "77f26b7a",
   "metadata": {},
   "outputs": [
    {
     "data": {
      "text/plain": [
       "0.005"
      ]
     },
     "execution_count": 26,
     "metadata": {},
     "output_type": "execute_result"
    }
   ],
   "source": [
    "np.std(x).round(3)"
   ]
  },
  {
   "cell_type": "markdown",
   "id": "f2bcc3d3",
   "metadata": {},
   "source": [
    "###### Question 6"
   ]
  },
  {
   "cell_type": "code",
   "execution_count": 48,
   "id": "f7b4967e",
   "metadata": {},
   "outputs": [],
   "source": [
    "# Split the dataset like previously, use seed 9.\n",
    "np.random.seed(9)"
   ]
  },
  {
   "cell_type": "code",
   "execution_count": 49,
   "id": "db5db70b",
   "metadata": {},
   "outputs": [],
   "source": [
    "# Split your data in train/val/test sets, with 60%/20%/20% distribution.\n",
    "n = len(df)\n",
    "\n",
    "n_test = int(0.2 * n)\n",
    "n_train = n - n_test\n",
    "\n",
    "idx = np.arange(n)\n",
    "np.random.shuffle(idx)\n",
    "\n",
    "df_shuffled = df.iloc[idx]\n",
    "\n",
    "df_train = df_shuffled.iloc[:n_train].copy()\n",
    "df_test = df_shuffled.iloc[n_train:].copy()"
   ]
  },
  {
   "cell_type": "code",
   "execution_count": 51,
   "id": "10f2f863",
   "metadata": {},
   "outputs": [],
   "source": [
    "# Apply the log transformation to the median_house_value variable using the np.log1p() function.\n",
    "y_train = df_train.median_house_value.values\n",
    "y_test_orig = df_test.median_house_value.values\n",
    "\n",
    "y_train = np.log1p(df_train.median_house_value.values)\n",
    "y_test = np.log1p(df_test.median_house_value.values)"
   ]
  },
  {
   "cell_type": "code",
   "execution_count": 53,
   "id": "1998f02b",
   "metadata": {},
   "outputs": [],
   "source": [
    "# Make sure that the target value ('median_house_value') is not in your dataframe.\n",
    "del df_train['median_house_value']\n",
    "del df_test['median_house_value']"
   ]
  },
  {
   "cell_type": "code",
   "execution_count": 54,
   "id": "62ad3b68",
   "metadata": {},
   "outputs": [],
   "source": [
    "# Fill the missing values with 0 and \n",
    "def prepare_X(df):\n",
    "    df_num = df.fillna(0)\n",
    "    X = df_num.values\n",
    "    return X"
   ]
  },
  {
   "cell_type": "code",
   "execution_count": 56,
   "id": "d89ecbf0",
   "metadata": {},
   "outputs": [
    {
     "name": "stdout",
     "output_type": "stream",
     "text": [
      "test: 0.35\n"
     ]
    }
   ],
   "source": [
    "# Fill the missing values with 0 and train a model with Use RMSE to evaluate the model on the validation and test dataset.\n",
    "X_train = prepare_X(df_train)\n",
    "w_0, w = train_linear_regression_reg(X_train, y_train, r=0.001)\n",
    "\n",
    "X_test = prepare_X(df_test)\n",
    "y_pred = w_0 + X_test.dot(w)\n",
    "print('test:', rmse(y_test, y_pred).round(2))"
   ]
  }
 ],
 "metadata": {
  "kernelspec": {
   "display_name": "Python 3 (ipykernel)",
   "language": "python",
   "name": "python3"
  },
  "language_info": {
   "codemirror_mode": {
    "name": "ipython",
    "version": 3
   },
   "file_extension": ".py",
   "mimetype": "text/x-python",
   "name": "python",
   "nbconvert_exporter": "python",
   "pygments_lexer": "ipython3",
   "version": "3.9.12"
  }
 },
 "nbformat": 4,
 "nbformat_minor": 5
}

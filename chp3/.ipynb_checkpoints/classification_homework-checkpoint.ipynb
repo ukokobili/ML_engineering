{
 "cells": [
  {
   "cell_type": "markdown",
   "id": "d10be58c",
   "metadata": {},
   "source": [
    "###### Dataset\n",
    "\n",
    "In this homework, we will use the California Housing Prices data from Kaggle.\n",
    "\n",
    "We'll keep working with the 'median_house_value' variable, and we'll transform it to a classification task."
   ]
  },
  {
   "cell_type": "code",
   "execution_count": 37,
   "id": "22fd5624",
   "metadata": {},
   "outputs": [],
   "source": [
    "# import python libraries\n",
    "import pandas as pd\n",
    "import numpy as np\n",
    "\n",
    "import seaborn as sns\n",
    "from matplotlib import pyplot as plt\n",
    "%matplotlib inline"
   ]
  },
  {
   "cell_type": "code",
   "execution_count": 38,
   "id": "1e2d6768",
   "metadata": {},
   "outputs": [],
   "source": [
    "# set the download url in a variable and download\n",
    "#data = 'https://raw.githubusercontent.com/alexeygrigorev/datasets/master/housing.csv'"
   ]
  },
  {
   "cell_type": "code",
   "execution_count": 39,
   "id": "db54a486",
   "metadata": {},
   "outputs": [
    {
     "name": "stdout",
     "output_type": "stream",
     "text": [
      "--2022-09-22 22:03:06--  https://raw.githubusercontent.com/alexeygrigorev/datasets/master/housing.csv\n",
      "Resolving raw.githubusercontent.com (raw.githubusercontent.com)... 185.199.108.133, 185.199.109.133, 185.199.110.133, ...\n",
      "Connecting to raw.githubusercontent.com (raw.githubusercontent.com)|185.199.108.133|:443... connected.\n",
      "HTTP request sent, awaiting response... 200 OK\n",
      "Length: 1423529 (1.4M) [text/plain]\n",
      "Saving to: ‘house_prices.csv’\n",
      "\n",
      "house_prices.csv    100%[===================>]   1.36M   566KB/s    in 2.5s    \n",
      "\n",
      "2022-09-22 22:03:09 (566 KB/s) - ‘house_prices.csv’ saved [1423529/1423529]\n",
      "\n"
     ]
    }
   ],
   "source": [
    "# download the dateset\n",
    "#!wget $data -O house_prices.csv"
   ]
  },
  {
   "cell_type": "code",
   "execution_count": 40,
   "id": "67ab5d3e",
   "metadata": {},
   "outputs": [],
   "source": [
    "# read dataset\n",
    "df = pd.read_csv('house_prices.csv')"
   ]
  },
  {
   "cell_type": "code",
   "execution_count": 41,
   "id": "7be20145",
   "metadata": {},
   "outputs": [
    {
     "data": {
      "text/plain": [
       "20640"
      ]
     },
     "execution_count": 41,
     "metadata": {},
     "output_type": "execute_result"
    }
   ],
   "source": [
    "# check length of dataset\n",
    "len(df)"
   ]
  },
  {
   "cell_type": "code",
   "execution_count": 42,
   "id": "13f6ea37",
   "metadata": {},
   "outputs": [],
   "source": [
    "# change fields name to small letters and replace white spaces with underscore\n",
    "df.columns = df.columns.str.lower().str.replace(' ','_')\n",
    "\n",
    "# select all the categorical variables and make a list\n",
    "string_columns = list(df.dtypes[df.dtypes == 'object'].index)\n",
    "\n",
    "# loop through the list change the text to small letters and replace white spaces with underscore\n",
    "for col in string_columns:\n",
    "    df[col] = df[col].str.lower().str.replace(' ', '_').str.replace('<', '')"
   ]
  },
  {
   "cell_type": "code",
   "execution_count": 43,
   "id": "3cef6a2b",
   "metadata": {},
   "outputs": [
    {
     "data": {
      "text/html": [
       "<div>\n",
       "<style scoped>\n",
       "    .dataframe tbody tr th:only-of-type {\n",
       "        vertical-align: middle;\n",
       "    }\n",
       "\n",
       "    .dataframe tbody tr th {\n",
       "        vertical-align: top;\n",
       "    }\n",
       "\n",
       "    .dataframe thead th {\n",
       "        text-align: right;\n",
       "    }\n",
       "</style>\n",
       "<table border=\"1\" class=\"dataframe\">\n",
       "  <thead>\n",
       "    <tr style=\"text-align: right;\">\n",
       "      <th></th>\n",
       "      <th>0</th>\n",
       "      <th>1</th>\n",
       "      <th>2</th>\n",
       "      <th>3</th>\n",
       "      <th>4</th>\n",
       "      <th>5</th>\n",
       "      <th>6</th>\n",
       "      <th>7</th>\n",
       "      <th>8</th>\n",
       "      <th>9</th>\n",
       "      <th>...</th>\n",
       "      <th>20630</th>\n",
       "      <th>20631</th>\n",
       "      <th>20632</th>\n",
       "      <th>20633</th>\n",
       "      <th>20634</th>\n",
       "      <th>20635</th>\n",
       "      <th>20636</th>\n",
       "      <th>20637</th>\n",
       "      <th>20638</th>\n",
       "      <th>20639</th>\n",
       "    </tr>\n",
       "  </thead>\n",
       "  <tbody>\n",
       "    <tr>\n",
       "      <th>longitude</th>\n",
       "      <td>-122.23</td>\n",
       "      <td>-122.22</td>\n",
       "      <td>-122.24</td>\n",
       "      <td>-122.25</td>\n",
       "      <td>-122.25</td>\n",
       "      <td>-122.25</td>\n",
       "      <td>-122.25</td>\n",
       "      <td>-122.25</td>\n",
       "      <td>-122.26</td>\n",
       "      <td>-122.25</td>\n",
       "      <td>...</td>\n",
       "      <td>-121.32</td>\n",
       "      <td>-121.4</td>\n",
       "      <td>-121.45</td>\n",
       "      <td>-121.53</td>\n",
       "      <td>-121.56</td>\n",
       "      <td>-121.09</td>\n",
       "      <td>-121.21</td>\n",
       "      <td>-121.22</td>\n",
       "      <td>-121.32</td>\n",
       "      <td>-121.24</td>\n",
       "    </tr>\n",
       "    <tr>\n",
       "      <th>latitude</th>\n",
       "      <td>37.88</td>\n",
       "      <td>37.86</td>\n",
       "      <td>37.85</td>\n",
       "      <td>37.85</td>\n",
       "      <td>37.85</td>\n",
       "      <td>37.85</td>\n",
       "      <td>37.84</td>\n",
       "      <td>37.84</td>\n",
       "      <td>37.84</td>\n",
       "      <td>37.84</td>\n",
       "      <td>...</td>\n",
       "      <td>39.29</td>\n",
       "      <td>39.33</td>\n",
       "      <td>39.26</td>\n",
       "      <td>39.19</td>\n",
       "      <td>39.27</td>\n",
       "      <td>39.48</td>\n",
       "      <td>39.49</td>\n",
       "      <td>39.43</td>\n",
       "      <td>39.43</td>\n",
       "      <td>39.37</td>\n",
       "    </tr>\n",
       "    <tr>\n",
       "      <th>housing_median_age</th>\n",
       "      <td>41.0</td>\n",
       "      <td>21.0</td>\n",
       "      <td>52.0</td>\n",
       "      <td>52.0</td>\n",
       "      <td>52.0</td>\n",
       "      <td>52.0</td>\n",
       "      <td>52.0</td>\n",
       "      <td>52.0</td>\n",
       "      <td>42.0</td>\n",
       "      <td>52.0</td>\n",
       "      <td>...</td>\n",
       "      <td>11.0</td>\n",
       "      <td>15.0</td>\n",
       "      <td>15.0</td>\n",
       "      <td>27.0</td>\n",
       "      <td>28.0</td>\n",
       "      <td>25.0</td>\n",
       "      <td>18.0</td>\n",
       "      <td>17.0</td>\n",
       "      <td>18.0</td>\n",
       "      <td>16.0</td>\n",
       "    </tr>\n",
       "    <tr>\n",
       "      <th>total_rooms</th>\n",
       "      <td>880.0</td>\n",
       "      <td>7099.0</td>\n",
       "      <td>1467.0</td>\n",
       "      <td>1274.0</td>\n",
       "      <td>1627.0</td>\n",
       "      <td>919.0</td>\n",
       "      <td>2535.0</td>\n",
       "      <td>3104.0</td>\n",
       "      <td>2555.0</td>\n",
       "      <td>3549.0</td>\n",
       "      <td>...</td>\n",
       "      <td>2640.0</td>\n",
       "      <td>2655.0</td>\n",
       "      <td>2319.0</td>\n",
       "      <td>2080.0</td>\n",
       "      <td>2332.0</td>\n",
       "      <td>1665.0</td>\n",
       "      <td>697.0</td>\n",
       "      <td>2254.0</td>\n",
       "      <td>1860.0</td>\n",
       "      <td>2785.0</td>\n",
       "    </tr>\n",
       "    <tr>\n",
       "      <th>total_bedrooms</th>\n",
       "      <td>129.0</td>\n",
       "      <td>1106.0</td>\n",
       "      <td>190.0</td>\n",
       "      <td>235.0</td>\n",
       "      <td>280.0</td>\n",
       "      <td>213.0</td>\n",
       "      <td>489.0</td>\n",
       "      <td>687.0</td>\n",
       "      <td>665.0</td>\n",
       "      <td>707.0</td>\n",
       "      <td>...</td>\n",
       "      <td>505.0</td>\n",
       "      <td>493.0</td>\n",
       "      <td>416.0</td>\n",
       "      <td>412.0</td>\n",
       "      <td>395.0</td>\n",
       "      <td>374.0</td>\n",
       "      <td>150.0</td>\n",
       "      <td>485.0</td>\n",
       "      <td>409.0</td>\n",
       "      <td>616.0</td>\n",
       "    </tr>\n",
       "    <tr>\n",
       "      <th>population</th>\n",
       "      <td>322.0</td>\n",
       "      <td>2401.0</td>\n",
       "      <td>496.0</td>\n",
       "      <td>558.0</td>\n",
       "      <td>565.0</td>\n",
       "      <td>413.0</td>\n",
       "      <td>1094.0</td>\n",
       "      <td>1157.0</td>\n",
       "      <td>1206.0</td>\n",
       "      <td>1551.0</td>\n",
       "      <td>...</td>\n",
       "      <td>1257.0</td>\n",
       "      <td>1200.0</td>\n",
       "      <td>1047.0</td>\n",
       "      <td>1082.0</td>\n",
       "      <td>1041.0</td>\n",
       "      <td>845.0</td>\n",
       "      <td>356.0</td>\n",
       "      <td>1007.0</td>\n",
       "      <td>741.0</td>\n",
       "      <td>1387.0</td>\n",
       "    </tr>\n",
       "    <tr>\n",
       "      <th>households</th>\n",
       "      <td>126.0</td>\n",
       "      <td>1138.0</td>\n",
       "      <td>177.0</td>\n",
       "      <td>219.0</td>\n",
       "      <td>259.0</td>\n",
       "      <td>193.0</td>\n",
       "      <td>514.0</td>\n",
       "      <td>647.0</td>\n",
       "      <td>595.0</td>\n",
       "      <td>714.0</td>\n",
       "      <td>...</td>\n",
       "      <td>445.0</td>\n",
       "      <td>432.0</td>\n",
       "      <td>385.0</td>\n",
       "      <td>382.0</td>\n",
       "      <td>344.0</td>\n",
       "      <td>330.0</td>\n",
       "      <td>114.0</td>\n",
       "      <td>433.0</td>\n",
       "      <td>349.0</td>\n",
       "      <td>530.0</td>\n",
       "    </tr>\n",
       "    <tr>\n",
       "      <th>median_income</th>\n",
       "      <td>8.3252</td>\n",
       "      <td>8.3014</td>\n",
       "      <td>7.2574</td>\n",
       "      <td>5.6431</td>\n",
       "      <td>3.8462</td>\n",
       "      <td>4.0368</td>\n",
       "      <td>3.6591</td>\n",
       "      <td>3.12</td>\n",
       "      <td>2.0804</td>\n",
       "      <td>3.6912</td>\n",
       "      <td>...</td>\n",
       "      <td>3.5673</td>\n",
       "      <td>3.5179</td>\n",
       "      <td>3.125</td>\n",
       "      <td>2.5495</td>\n",
       "      <td>3.7125</td>\n",
       "      <td>1.5603</td>\n",
       "      <td>2.5568</td>\n",
       "      <td>1.7</td>\n",
       "      <td>1.8672</td>\n",
       "      <td>2.3886</td>\n",
       "    </tr>\n",
       "    <tr>\n",
       "      <th>median_house_value</th>\n",
       "      <td>452600.0</td>\n",
       "      <td>358500.0</td>\n",
       "      <td>352100.0</td>\n",
       "      <td>341300.0</td>\n",
       "      <td>342200.0</td>\n",
       "      <td>269700.0</td>\n",
       "      <td>299200.0</td>\n",
       "      <td>241400.0</td>\n",
       "      <td>226700.0</td>\n",
       "      <td>261100.0</td>\n",
       "      <td>...</td>\n",
       "      <td>112000.0</td>\n",
       "      <td>107200.0</td>\n",
       "      <td>115600.0</td>\n",
       "      <td>98300.0</td>\n",
       "      <td>116800.0</td>\n",
       "      <td>78100.0</td>\n",
       "      <td>77100.0</td>\n",
       "      <td>92300.0</td>\n",
       "      <td>84700.0</td>\n",
       "      <td>89400.0</td>\n",
       "    </tr>\n",
       "    <tr>\n",
       "      <th>ocean_proximity</th>\n",
       "      <td>near_bay</td>\n",
       "      <td>near_bay</td>\n",
       "      <td>near_bay</td>\n",
       "      <td>near_bay</td>\n",
       "      <td>near_bay</td>\n",
       "      <td>near_bay</td>\n",
       "      <td>near_bay</td>\n",
       "      <td>near_bay</td>\n",
       "      <td>near_bay</td>\n",
       "      <td>near_bay</td>\n",
       "      <td>...</td>\n",
       "      <td>inland</td>\n",
       "      <td>inland</td>\n",
       "      <td>inland</td>\n",
       "      <td>inland</td>\n",
       "      <td>inland</td>\n",
       "      <td>inland</td>\n",
       "      <td>inland</td>\n",
       "      <td>inland</td>\n",
       "      <td>inland</td>\n",
       "      <td>inland</td>\n",
       "    </tr>\n",
       "  </tbody>\n",
       "</table>\n",
       "<p>10 rows × 20640 columns</p>\n",
       "</div>"
      ],
      "text/plain": [
       "                       0         1         2         3         4      \\\n",
       "longitude            -122.23   -122.22   -122.24   -122.25   -122.25   \n",
       "latitude               37.88     37.86     37.85     37.85     37.85   \n",
       "housing_median_age      41.0      21.0      52.0      52.0      52.0   \n",
       "total_rooms            880.0    7099.0    1467.0    1274.0    1627.0   \n",
       "total_bedrooms         129.0    1106.0     190.0     235.0     280.0   \n",
       "population             322.0    2401.0     496.0     558.0     565.0   \n",
       "households             126.0    1138.0     177.0     219.0     259.0   \n",
       "median_income         8.3252    8.3014    7.2574    5.6431    3.8462   \n",
       "median_house_value  452600.0  358500.0  352100.0  341300.0  342200.0   \n",
       "ocean_proximity     near_bay  near_bay  near_bay  near_bay  near_bay   \n",
       "\n",
       "                       5         6         7         8         9      ...  \\\n",
       "longitude            -122.25   -122.25   -122.25   -122.26   -122.25  ...   \n",
       "latitude               37.85     37.84     37.84     37.84     37.84  ...   \n",
       "housing_median_age      52.0      52.0      52.0      42.0      52.0  ...   \n",
       "total_rooms            919.0    2535.0    3104.0    2555.0    3549.0  ...   \n",
       "total_bedrooms         213.0     489.0     687.0     665.0     707.0  ...   \n",
       "population             413.0    1094.0    1157.0    1206.0    1551.0  ...   \n",
       "households             193.0     514.0     647.0     595.0     714.0  ...   \n",
       "median_income         4.0368    3.6591      3.12    2.0804    3.6912  ...   \n",
       "median_house_value  269700.0  299200.0  241400.0  226700.0  261100.0  ...   \n",
       "ocean_proximity     near_bay  near_bay  near_bay  near_bay  near_bay  ...   \n",
       "\n",
       "                       20630     20631     20632    20633     20634    20635  \\\n",
       "longitude            -121.32    -121.4   -121.45  -121.53   -121.56  -121.09   \n",
       "latitude               39.29     39.33     39.26    39.19     39.27    39.48   \n",
       "housing_median_age      11.0      15.0      15.0     27.0      28.0     25.0   \n",
       "total_rooms           2640.0    2655.0    2319.0   2080.0    2332.0   1665.0   \n",
       "total_bedrooms         505.0     493.0     416.0    412.0     395.0    374.0   \n",
       "population            1257.0    1200.0    1047.0   1082.0    1041.0    845.0   \n",
       "households             445.0     432.0     385.0    382.0     344.0    330.0   \n",
       "median_income         3.5673    3.5179     3.125   2.5495    3.7125   1.5603   \n",
       "median_house_value  112000.0  107200.0  115600.0  98300.0  116800.0  78100.0   \n",
       "ocean_proximity       inland    inland    inland   inland    inland   inland   \n",
       "\n",
       "                      20636    20637    20638    20639  \n",
       "longitude           -121.21  -121.22  -121.32  -121.24  \n",
       "latitude              39.49    39.43    39.43    39.37  \n",
       "housing_median_age     18.0     17.0     18.0     16.0  \n",
       "total_rooms           697.0   2254.0   1860.0   2785.0  \n",
       "total_bedrooms        150.0    485.0    409.0    616.0  \n",
       "population            356.0   1007.0    741.0   1387.0  \n",
       "households            114.0    433.0    349.0    530.0  \n",
       "median_income        2.5568      1.7   1.8672   2.3886  \n",
       "median_house_value  77100.0  92300.0  84700.0  89400.0  \n",
       "ocean_proximity      inland   inland   inland   inland  \n",
       "\n",
       "[10 rows x 20640 columns]"
      ]
     },
     "execution_count": 43,
     "metadata": {},
     "output_type": "execute_result"
    }
   ],
   "source": [
    "# transpose table to see column names\n",
    "df.T"
   ]
  },
  {
   "cell_type": "markdown",
   "id": "9c978514",
   "metadata": {},
   "source": [
    "###### Features"
   ]
  },
  {
   "cell_type": "code",
   "execution_count": 44,
   "id": "6cab62a3",
   "metadata": {},
   "outputs": [
    {
     "data": {
      "text/plain": [
       "Index(['longitude', 'latitude', 'housing_median_age', 'total_rooms',\n",
       "       'total_bedrooms', 'population', 'households', 'median_income',\n",
       "       'median_house_value', 'ocean_proximity'],\n",
       "      dtype='object')"
      ]
     },
     "execution_count": 44,
     "metadata": {},
     "output_type": "execute_result"
    }
   ],
   "source": [
    "# columns\n",
    "df.columns"
   ]
  },
  {
   "cell_type": "markdown",
   "id": "0f08495b",
   "metadata": {},
   "source": [
    "###### Data Preparation"
   ]
  },
  {
   "cell_type": "code",
   "execution_count": 45,
   "id": "1c3637d4",
   "metadata": {},
   "outputs": [],
   "source": [
    "# fSelect only the features from above and fill in the missing values with 0.\n",
    "df = df.fillna(0)"
   ]
  },
  {
   "cell_type": "code",
   "execution_count": 46,
   "id": "3a9b10c4",
   "metadata": {},
   "outputs": [],
   "source": [
    "# Create a new column rooms_per_household by dividing the column total_rooms by the column households from dataframe.\n",
    "df['rooms_per_household'] = (df['total_rooms'] / df['households']).round()"
   ]
  },
  {
   "cell_type": "code",
   "execution_count": 47,
   "id": "92c9e86b",
   "metadata": {},
   "outputs": [],
   "source": [
    "# Create a new column bedrooms_per_room by dividing the column total_bedrooms by the column total_rooms from dataframe.\n",
    "df['bedrooms_per_room'] = (df['total_bedrooms'] / df['total_rooms']).round()"
   ]
  },
  {
   "cell_type": "code",
   "execution_count": 48,
   "id": "85b44287",
   "metadata": {},
   "outputs": [],
   "source": [
    "# Create a new column population_per_household by dividing the column population by the column households from dataframe.\n",
    "df['population_per_household'] = (df['population'] / df['households']).round()"
   ]
  },
  {
   "cell_type": "markdown",
   "id": "67cd63ad",
   "metadata": {},
   "source": [
    "###### Question 1\n",
    "What is the most frequent observation (mode) for the column ocean_proximity?"
   ]
  },
  {
   "cell_type": "code",
   "execution_count": 49,
   "id": "2ce9060b",
   "metadata": {},
   "outputs": [
    {
     "data": {
      "text/plain": [
       "0    1h_ocean\n",
       "Name: ocean_proximity, dtype: object"
      ]
     },
     "execution_count": 49,
     "metadata": {},
     "output_type": "execute_result"
    }
   ],
   "source": [
    "# the most sort after ocean proximity\n",
    "df.ocean_proximity.mode()"
   ]
  },
  {
   "cell_type": "markdown",
   "id": "ad4b1444",
   "metadata": {},
   "source": [
    "###### Split the data"
   ]
  },
  {
   "cell_type": "code",
   "execution_count": 50,
   "id": "c1cc18e3",
   "metadata": {},
   "outputs": [],
   "source": [
    "# import sklearn train test split library\n",
    "from sklearn.model_selection import train_test_split"
   ]
  },
  {
   "cell_type": "code",
   "execution_count": 51,
   "id": "5b37ebea",
   "metadata": {},
   "outputs": [],
   "source": [
    "# Split your data in train/val/test sets, with 60%/20%/20% distribution.\n",
    "df_train_full, df_test = train_test_split(df, test_size = .2, random_state = 42)"
   ]
  },
  {
   "cell_type": "code",
   "execution_count": 52,
   "id": "9b1548e2",
   "metadata": {},
   "outputs": [],
   "source": [
    "# Let's create a variable above_average which is 1 if the median_house_value is above its mean value and 0 otherwise.\n",
    "df_train_full['above_average'] = (df_train_full.median_house_value > round(df_train_full.median_house_value.mean()))\n",
    "df_train_full['above_average'] = df_train_full['above_average'].astype(int)"
   ]
  },
  {
   "cell_type": "code",
   "execution_count": 53,
   "id": "1701f5a9",
   "metadata": {},
   "outputs": [],
   "source": [
    "del df_train_full['median_house_value']"
   ]
  },
  {
   "cell_type": "code",
   "execution_count": 54,
   "id": "5c04ee24",
   "metadata": {},
   "outputs": [],
   "source": [
    "# Use Scikit-Learn for that (the train_test_split function) and set the seed to 42.\n",
    "df_train, df_val = train_test_split(df_train_full, test_size = .33, random_state = 42)"
   ]
  },
  {
   "cell_type": "code",
   "execution_count": 55,
   "id": "0e42646b",
   "metadata": {},
   "outputs": [],
   "source": [
    "# set the target to variables\n",
    "y_train = df_train.above_average.values\n",
    "y_val = df_val.above_average.values"
   ]
  },
  {
   "cell_type": "markdown",
   "id": "50a70b42",
   "metadata": {},
   "source": [
    "###### Question 2\n",
    " * Create the correlation matrix for the numerical features of your train dataset.\n",
    "   * In a correlation matrix, you compute the correlation coefficient between every pair of features in the dataset.\n",
    "  * What are the two features that have the biggest correlation in this dataset?"
   ]
  },
  {
   "cell_type": "code",
   "execution_count": 56,
   "id": "f3674b83",
   "metadata": {
    "scrolled": true
   },
   "outputs": [
    {
     "data": {
      "text/html": [
       "<div>\n",
       "<style scoped>\n",
       "    .dataframe tbody tr th:only-of-type {\n",
       "        vertical-align: middle;\n",
       "    }\n",
       "\n",
       "    .dataframe tbody tr th {\n",
       "        vertical-align: top;\n",
       "    }\n",
       "\n",
       "    .dataframe thead th {\n",
       "        text-align: right;\n",
       "    }\n",
       "</style>\n",
       "<table border=\"1\" class=\"dataframe\">\n",
       "  <thead>\n",
       "    <tr style=\"text-align: right;\">\n",
       "      <th></th>\n",
       "      <th>longitude</th>\n",
       "      <th>latitude</th>\n",
       "      <th>housing_median_age</th>\n",
       "      <th>total_rooms</th>\n",
       "      <th>total_bedrooms</th>\n",
       "      <th>population</th>\n",
       "      <th>households</th>\n",
       "      <th>median_income</th>\n",
       "      <th>rooms_per_household</th>\n",
       "      <th>bedrooms_per_room</th>\n",
       "      <th>population_per_household</th>\n",
       "      <th>above_average</th>\n",
       "    </tr>\n",
       "  </thead>\n",
       "  <tbody>\n",
       "    <tr>\n",
       "      <th>longitude</th>\n",
       "      <td>1.000000</td>\n",
       "      <td>-0.924485</td>\n",
       "      <td>-0.101818</td>\n",
       "      <td>0.038676</td>\n",
       "      <td>0.063064</td>\n",
       "      <td>0.094276</td>\n",
       "      <td>0.049306</td>\n",
       "      <td>-0.017040</td>\n",
       "      <td>-0.028542</td>\n",
       "      <td>0.023304</td>\n",
       "      <td>-0.000696</td>\n",
       "      <td>-0.074333</td>\n",
       "    </tr>\n",
       "    <tr>\n",
       "      <th>latitude</th>\n",
       "      <td>-0.924485</td>\n",
       "      <td>1.000000</td>\n",
       "      <td>0.005296</td>\n",
       "      <td>-0.029224</td>\n",
       "      <td>-0.059998</td>\n",
       "      <td>-0.102499</td>\n",
       "      <td>-0.064061</td>\n",
       "      <td>-0.076571</td>\n",
       "      <td>0.109413</td>\n",
       "      <td>-0.026670</td>\n",
       "      <td>0.005923</td>\n",
       "      <td>-0.097202</td>\n",
       "    </tr>\n",
       "    <tr>\n",
       "      <th>housing_median_age</th>\n",
       "      <td>-0.101818</td>\n",
       "      <td>0.005296</td>\n",
       "      <td>1.000000</td>\n",
       "      <td>-0.360922</td>\n",
       "      <td>-0.320624</td>\n",
       "      <td>-0.292283</td>\n",
       "      <td>-0.302796</td>\n",
       "      <td>-0.121711</td>\n",
       "      <td>-0.158584</td>\n",
       "      <td>0.030822</td>\n",
       "      <td>0.015949</td>\n",
       "      <td>0.077366</td>\n",
       "    </tr>\n",
       "    <tr>\n",
       "      <th>total_rooms</th>\n",
       "      <td>0.038676</td>\n",
       "      <td>-0.029224</td>\n",
       "      <td>-0.360922</td>\n",
       "      <td>1.000000</td>\n",
       "      <td>0.930489</td>\n",
       "      <td>0.857936</td>\n",
       "      <td>0.920482</td>\n",
       "      <td>0.198268</td>\n",
       "      <td>0.135206</td>\n",
       "      <td>-0.045353</td>\n",
       "      <td>-0.024901</td>\n",
       "      <td>0.129528</td>\n",
       "    </tr>\n",
       "    <tr>\n",
       "      <th>total_bedrooms</th>\n",
       "      <td>0.063064</td>\n",
       "      <td>-0.059998</td>\n",
       "      <td>-0.320624</td>\n",
       "      <td>0.930489</td>\n",
       "      <td>1.000000</td>\n",
       "      <td>0.878932</td>\n",
       "      <td>0.980255</td>\n",
       "      <td>-0.009141</td>\n",
       "      <td>-0.000946</td>\n",
       "      <td>-0.001762</td>\n",
       "      <td>-0.028383</td>\n",
       "      <td>0.057973</td>\n",
       "    </tr>\n",
       "    <tr>\n",
       "      <th>population</th>\n",
       "      <td>0.094276</td>\n",
       "      <td>-0.102499</td>\n",
       "      <td>-0.292283</td>\n",
       "      <td>0.857936</td>\n",
       "      <td>0.878932</td>\n",
       "      <td>1.000000</td>\n",
       "      <td>0.907452</td>\n",
       "      <td>0.004122</td>\n",
       "      <td>-0.073454</td>\n",
       "      <td>-0.002172</td>\n",
       "      <td>0.072274</td>\n",
       "      <td>-0.014167</td>\n",
       "    </tr>\n",
       "    <tr>\n",
       "      <th>households</th>\n",
       "      <td>0.049306</td>\n",
       "      <td>-0.064061</td>\n",
       "      <td>-0.302796</td>\n",
       "      <td>0.920482</td>\n",
       "      <td>0.980255</td>\n",
       "      <td>0.907452</td>\n",
       "      <td>1.000000</td>\n",
       "      <td>0.012776</td>\n",
       "      <td>-0.082143</td>\n",
       "      <td>-0.003229</td>\n",
       "      <td>-0.027475</td>\n",
       "      <td>0.075293</td>\n",
       "    </tr>\n",
       "    <tr>\n",
       "      <th>median_income</th>\n",
       "      <td>-0.017040</td>\n",
       "      <td>-0.076571</td>\n",
       "      <td>-0.121711</td>\n",
       "      <td>0.198268</td>\n",
       "      <td>-0.009141</td>\n",
       "      <td>0.004122</td>\n",
       "      <td>0.012776</td>\n",
       "      <td>1.000000</td>\n",
       "      <td>0.332440</td>\n",
       "      <td>-0.065938</td>\n",
       "      <td>0.022372</td>\n",
       "      <td>0.542839</td>\n",
       "    </tr>\n",
       "    <tr>\n",
       "      <th>rooms_per_household</th>\n",
       "      <td>-0.028542</td>\n",
       "      <td>0.109413</td>\n",
       "      <td>-0.158584</td>\n",
       "      <td>0.135206</td>\n",
       "      <td>-0.000946</td>\n",
       "      <td>-0.073454</td>\n",
       "      <td>-0.082143</td>\n",
       "      <td>0.332440</td>\n",
       "      <td>1.000000</td>\n",
       "      <td>-0.083808</td>\n",
       "      <td>-0.005962</td>\n",
       "      <td>0.114797</td>\n",
       "    </tr>\n",
       "    <tr>\n",
       "      <th>bedrooms_per_room</th>\n",
       "      <td>0.023304</td>\n",
       "      <td>-0.026670</td>\n",
       "      <td>0.030822</td>\n",
       "      <td>-0.045353</td>\n",
       "      <td>-0.001762</td>\n",
       "      <td>-0.002172</td>\n",
       "      <td>-0.003229</td>\n",
       "      <td>-0.065938</td>\n",
       "      <td>-0.083808</td>\n",
       "      <td>1.000000</td>\n",
       "      <td>0.000397</td>\n",
       "      <td>-0.005086</td>\n",
       "    </tr>\n",
       "    <tr>\n",
       "      <th>population_per_household</th>\n",
       "      <td>-0.000696</td>\n",
       "      <td>0.005923</td>\n",
       "      <td>0.015949</td>\n",
       "      <td>-0.024901</td>\n",
       "      <td>-0.028383</td>\n",
       "      <td>0.072274</td>\n",
       "      <td>-0.027475</td>\n",
       "      <td>0.022372</td>\n",
       "      <td>-0.005962</td>\n",
       "      <td>0.000397</td>\n",
       "      <td>1.000000</td>\n",
       "      <td>-0.021036</td>\n",
       "    </tr>\n",
       "    <tr>\n",
       "      <th>above_average</th>\n",
       "      <td>-0.074333</td>\n",
       "      <td>-0.097202</td>\n",
       "      <td>0.077366</td>\n",
       "      <td>0.129528</td>\n",
       "      <td>0.057973</td>\n",
       "      <td>-0.014167</td>\n",
       "      <td>0.075293</td>\n",
       "      <td>0.542839</td>\n",
       "      <td>0.114797</td>\n",
       "      <td>-0.005086</td>\n",
       "      <td>-0.021036</td>\n",
       "      <td>1.000000</td>\n",
       "    </tr>\n",
       "  </tbody>\n",
       "</table>\n",
       "</div>"
      ],
      "text/plain": [
       "                          longitude  latitude  housing_median_age  \\\n",
       "longitude                  1.000000 -0.924485           -0.101818   \n",
       "latitude                  -0.924485  1.000000            0.005296   \n",
       "housing_median_age        -0.101818  0.005296            1.000000   \n",
       "total_rooms                0.038676 -0.029224           -0.360922   \n",
       "total_bedrooms             0.063064 -0.059998           -0.320624   \n",
       "population                 0.094276 -0.102499           -0.292283   \n",
       "households                 0.049306 -0.064061           -0.302796   \n",
       "median_income             -0.017040 -0.076571           -0.121711   \n",
       "rooms_per_household       -0.028542  0.109413           -0.158584   \n",
       "bedrooms_per_room          0.023304 -0.026670            0.030822   \n",
       "population_per_household  -0.000696  0.005923            0.015949   \n",
       "above_average             -0.074333 -0.097202            0.077366   \n",
       "\n",
       "                          total_rooms  total_bedrooms  population  households  \\\n",
       "longitude                    0.038676        0.063064    0.094276    0.049306   \n",
       "latitude                    -0.029224       -0.059998   -0.102499   -0.064061   \n",
       "housing_median_age          -0.360922       -0.320624   -0.292283   -0.302796   \n",
       "total_rooms                  1.000000        0.930489    0.857936    0.920482   \n",
       "total_bedrooms               0.930489        1.000000    0.878932    0.980255   \n",
       "population                   0.857936        0.878932    1.000000    0.907452   \n",
       "households                   0.920482        0.980255    0.907452    1.000000   \n",
       "median_income                0.198268       -0.009141    0.004122    0.012776   \n",
       "rooms_per_household          0.135206       -0.000946   -0.073454   -0.082143   \n",
       "bedrooms_per_room           -0.045353       -0.001762   -0.002172   -0.003229   \n",
       "population_per_household    -0.024901       -0.028383    0.072274   -0.027475   \n",
       "above_average                0.129528        0.057973   -0.014167    0.075293   \n",
       "\n",
       "                          median_income  rooms_per_household  \\\n",
       "longitude                     -0.017040            -0.028542   \n",
       "latitude                      -0.076571             0.109413   \n",
       "housing_median_age            -0.121711            -0.158584   \n",
       "total_rooms                    0.198268             0.135206   \n",
       "total_bedrooms                -0.009141            -0.000946   \n",
       "population                     0.004122            -0.073454   \n",
       "households                     0.012776            -0.082143   \n",
       "median_income                  1.000000             0.332440   \n",
       "rooms_per_household            0.332440             1.000000   \n",
       "bedrooms_per_room             -0.065938            -0.083808   \n",
       "population_per_household       0.022372            -0.005962   \n",
       "above_average                  0.542839             0.114797   \n",
       "\n",
       "                          bedrooms_per_room  population_per_household  \\\n",
       "longitude                          0.023304                 -0.000696   \n",
       "latitude                          -0.026670                  0.005923   \n",
       "housing_median_age                 0.030822                  0.015949   \n",
       "total_rooms                       -0.045353                 -0.024901   \n",
       "total_bedrooms                    -0.001762                 -0.028383   \n",
       "population                        -0.002172                  0.072274   \n",
       "households                        -0.003229                 -0.027475   \n",
       "median_income                     -0.065938                  0.022372   \n",
       "rooms_per_household               -0.083808                 -0.005962   \n",
       "bedrooms_per_room                  1.000000                  0.000397   \n",
       "population_per_household           0.000397                  1.000000   \n",
       "above_average                     -0.005086                 -0.021036   \n",
       "\n",
       "                          above_average  \n",
       "longitude                     -0.074333  \n",
       "latitude                      -0.097202  \n",
       "housing_median_age             0.077366  \n",
       "total_rooms                    0.129528  \n",
       "total_bedrooms                 0.057973  \n",
       "population                    -0.014167  \n",
       "households                     0.075293  \n",
       "median_income                  0.542839  \n",
       "rooms_per_household            0.114797  \n",
       "bedrooms_per_room             -0.005086  \n",
       "population_per_household      -0.021036  \n",
       "above_average                  1.000000  "
      ]
     },
     "execution_count": 56,
     "metadata": {},
     "output_type": "execute_result"
    }
   ],
   "source": [
    "# determine the correlation between numerical values and median value price\n",
    "df_train_full.corr()"
   ]
  },
  {
   "cell_type": "code",
   "execution_count": 57,
   "id": "b7d5d276",
   "metadata": {},
   "outputs": [
    {
     "data": {
      "image/png": "[encoded data removed]",
      "text/plain": [
       "<Figure size 1800x1080 with 2 Axes>"
      ]
     },
     "metadata": {
      "needs_background": "light"
     },
     "output_type": "display_data"
    }
   ],
   "source": [
    "# correlation matrix plot\n",
    "plt.rcParams['figure.figsize'] = (25.0, 15.0)\n",
    "sns.heatmap(df_train_full.corr(), annot=True);"
   ]
  },
  {
   "cell_type": "markdown",
   "id": "4f027c41",
   "metadata": {},
   "source": [
    "###### Make median_house_value binary\n",
    "We need to turn the median_house_value variable from numeric into binary."
   ]
  },
  {
   "cell_type": "markdown",
   "id": "407b9b4a",
   "metadata": {},
   "source": [
    "###### Question 3"
   ]
  },
  {
   "cell_type": "code",
   "execution_count": 58,
   "id": "c1047242",
   "metadata": {},
   "outputs": [],
   "source": [
    "# import mutual infor score library\n",
    "from sklearn.metrics import mutual_info_score"
   ]
  },
  {
   "cell_type": "code",
   "execution_count": 59,
   "id": "4e4eff22",
   "metadata": {},
   "outputs": [],
   "source": [
    "# save categprical variable to series\n",
    "cat = ['ocean_proximity']"
   ]
  },
  {
   "cell_type": "code",
   "execution_count": 60,
   "id": "55f8680a",
   "metadata": {},
   "outputs": [
    {
     "data": {
      "text/html": [
       "<div>\n",
       "<style scoped>\n",
       "    .dataframe tbody tr th:only-of-type {\n",
       "        vertical-align: middle;\n",
       "    }\n",
       "\n",
       "    .dataframe tbody tr th {\n",
       "        vertical-align: top;\n",
       "    }\n",
       "\n",
       "    .dataframe thead th {\n",
       "        text-align: right;\n",
       "    }\n",
       "</style>\n",
       "<table border=\"1\" class=\"dataframe\">\n",
       "  <thead>\n",
       "    <tr style=\"text-align: right;\">\n",
       "      <th></th>\n",
       "      <th>MI</th>\n",
       "    </tr>\n",
       "  </thead>\n",
       "  <tbody>\n",
       "    <tr>\n",
       "      <th>ocean_proximity</th>\n",
       "      <td>0.099534</td>\n",
       "    </tr>\n",
       "  </tbody>\n",
       "</table>\n",
       "</div>"
      ],
      "text/plain": [
       "                       MI\n",
       "ocean_proximity  0.099534"
      ]
     },
     "metadata": {},
     "output_type": "display_data"
    }
   ],
   "source": [
    "# What is the value of mutual information? Round it to 2 decimal digits using round(score, 2)\n",
    "df_mi = df_train[cat].apply(lambda x: mutual_info_score(x, df_train.above_average))\n",
    "\n",
    "df_mi = df_mi.sort_values(ascending = False).to_frame(name = 'MI')\n",
    "\n",
    "display(df_mi)"
   ]
  },
  {
   "cell_type": "code",
   "execution_count": 61,
   "id": "a79b2105",
   "metadata": {},
   "outputs": [],
   "source": [
    "# Make sure that the target value (median_house_value) is not in your dataframe.\n",
    "del df_train['above_average']\n",
    "del df_val['above_average']"
   ]
  },
  {
   "cell_type": "markdown",
   "id": "44f1eb32",
   "metadata": {},
   "source": [
    "###### Question 4"
   ]
  },
  {
   "cell_type": "code",
   "execution_count": 62,
   "id": "c91a4edf",
   "metadata": {},
   "outputs": [],
   "source": [
    "# Now let's train a logistic regression\n",
    "# import logistic regression library\n",
    "from sklearn.linear_model import LogisticRegression\n",
    "\n",
    "# DictVectoriser for encoding and transforming categorical variables\n",
    "from sklearn.feature_extraction import DictVectorizer"
   ]
  },
  {
   "cell_type": "code",
   "execution_count": 63,
   "id": "2f7f66db",
   "metadata": {},
   "outputs": [],
   "source": [
    "# Remember that we have one categorical variable ocean_proximity in the data. Include it using one-hot encoding.\n",
    "# convert to dictionary\n",
    "train_dict = df_train.to_dict(orient = 'records')"
   ]
  },
  {
   "cell_type": "code",
   "execution_count": 64,
   "id": "e53c41cb",
   "metadata": {},
   "outputs": [
    {
     "data": {
      "text/plain": [
       "{'longitude': -118.46,\n",
       " 'latitude': 34.22,\n",
       " 'housing_median_age': 35.0,\n",
       " 'total_rooms': 2288.0,\n",
       " 'total_bedrooms': 617.0,\n",
       " 'population': 2222.0,\n",
       " 'households': 566.0,\n",
       " 'median_income': 2.6299,\n",
       " 'ocean_proximity': '1h_ocean',\n",
       " 'rooms_per_household': 4.0,\n",
       " 'bedrooms_per_room': 0.0,\n",
       " 'population_per_household': 4.0}"
      ]
     },
     "execution_count": 64,
     "metadata": {},
     "output_type": "execute_result"
    }
   ],
   "source": [
    "# view dictionary\n",
    "train_dict[0]"
   ]
  },
  {
   "cell_type": "code",
   "execution_count": 65,
   "id": "e0f7fca7",
   "metadata": {},
   "outputs": [
    {
     "data": {
      "text/plain": [
       "DictVectorizer(sparse=False)"
      ]
     },
     "execution_count": 65,
     "metadata": {},
     "output_type": "execute_result"
    }
   ],
   "source": [
    "# fit the train_dict data in Dictvectoriser\n",
    "dv = DictVectorizer(sparse = False)\n",
    "dv.fit(train_dict)"
   ]
  },
  {
   "cell_type": "code",
   "execution_count": 66,
   "id": "b60249d8",
   "metadata": {},
   "outputs": [
    {
     "data": {
      "text/plain": [
       "(11063, 16)"
      ]
     },
     "execution_count": 66,
     "metadata": {},
     "output_type": "execute_result"
    }
   ],
   "source": [
    "# transform the train_dict data\n",
    "X_train = dv.transform(train_dict)\n",
    "X_train.shape"
   ]
  },
  {
   "cell_type": "code",
   "execution_count": 67,
   "id": "1a1be430",
   "metadata": {},
   "outputs": [
    {
     "name": "stderr",
     "output_type": "stream",
     "text": [
      "/home/nerd/anaconda3/lib/python3.9/site-packages/sklearn/utils/deprecation.py:87: FutureWarning: Function get_feature_names is deprecated; get_feature_names is deprecated in 1.0 and will be removed in 1.2. Please use get_feature_names_out instead.\n",
      "  warnings.warn(msg, category=FutureWarning)\n"
     ]
    },
    {
     "data": {
      "text/plain": [
       "['bedrooms_per_room',\n",
       " 'households',\n",
       " 'housing_median_age',\n",
       " 'latitude',\n",
       " 'longitude',\n",
       " 'median_income',\n",
       " 'ocean_proximity=1h_ocean',\n",
       " 'ocean_proximity=inland',\n",
       " 'ocean_proximity=island',\n",
       " 'ocean_proximity=near_bay',\n",
       " 'ocean_proximity=near_ocean',\n",
       " 'population',\n",
       " 'population_per_household',\n",
       " 'rooms_per_household',\n",
       " 'total_bedrooms',\n",
       " 'total_rooms']"
      ]
     },
     "execution_count": 67,
     "metadata": {},
     "output_type": "execute_result"
    }
   ],
   "source": [
    "# get feautre names of the tranformed data\n",
    "dv.get_feature_names()"
   ]
  },
  {
   "cell_type": "code",
   "execution_count": 68,
   "id": "f5c1085b",
   "metadata": {},
   "outputs": [
    {
     "data": {
      "text/plain": [
       "LogisticRegression(max_iter=1000, random_state=42, solver='liblinear')"
      ]
     },
     "execution_count": 68,
     "metadata": {},
     "output_type": "execute_result"
    }
   ],
   "source": [
    "# Fit the model on the training dataset.\n",
    "model = LogisticRegression(solver=\"liblinear\", C=1.0, max_iter=1000, random_state=42)\n",
    "model.fit(X_train, y_train)"
   ]
  },
  {
   "cell_type": "code",
   "execution_count": 69,
   "id": "b87996b6",
   "metadata": {},
   "outputs": [],
   "source": [
    "# combining the validation data for encoding\n",
    "val_dict = df_val.to_dict(orient='records') \n",
    "X_val = dv.transform(val_dict)"
   ]
  },
  {
   "cell_type": "code",
   "execution_count": 70,
   "id": "4d57ed5b",
   "metadata": {},
   "outputs": [],
   "source": [
    "from sklearn.metrics import accuracy_score"
   ]
  },
  {
   "cell_type": "code",
   "execution_count": 71,
   "id": "d0b868e7",
   "metadata": {},
   "outputs": [
    {
     "name": "stdout",
     "output_type": "stream",
     "text": [
      "0.83\n"
     ]
    }
   ],
   "source": [
    "# To make sure the results are reproducible across different versions of Scikit-Learn, fit the model with these parameters:\n",
    "y_pred = model.predict(X_val)\n",
    "\n",
    "accuracy = np.round(accuracy_score(y_val, y_pred),2)\n",
    "print(accuracy)"
   ]
  },
  {
   "cell_type": "code",
   "execution_count": null,
   "id": "5049213a",
   "metadata": {},
   "outputs": [],
   "source": []
  }
 ],
 "metadata": {
  "kernelspec": {
   "display_name": "Python 3 (ipykernel)",
   "language": "python",
   "name": "python3"
  },
  "language_info": {
   "codemirror_mode": {
    "name": "ipython",
    "version": 3
   },
   "file_extension": ".py",
   "mimetype": "text/x-python",
   "name": "python",
   "nbconvert_exporter": "python",
   "pygments_lexer": "ipython3",
   "version": "3.9.12"
  }
 },
 "nbformat": 4,
 "nbformat_minor": 5
}

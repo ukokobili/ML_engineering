{
 "cells": [
  {
   "cell_type": "markdown",
   "id": "d10be58c",
   "metadata": {},
   "source": [
    "###### Dataset\n",
    "\n",
    "In this homework, we will use the California Housing Prices data from Kaggle.\n",
    "\n",
    "We'll keep working with the 'median_house_value' variable, and we'll transform it to a classification task."
   ]
  },
  {
   "cell_type": "code",
   "execution_count": 68,
   "id": "22fd5624",
   "metadata": {},
   "outputs": [],
   "source": [
    "# import python libraries\n",
    "import pandas as pd\n",
    "import numpy as np\n",
    "\n",
    "import seaborn as sns\n",
    "from matplotlib import pyplot as plt\n",
    "%matplotlib inline"
   ]
  },
  {
   "cell_type": "code",
   "execution_count": 69,
   "id": "1e2d6768",
   "metadata": {},
   "outputs": [],
   "source": [
    "# set the download url in a variable and download\n",
    "data = 'https://raw.githubusercontent.com/alexeygrigorev/datasets/master/housing.csv'"
   ]
  },
  {
   "cell_type": "code",
   "execution_count": 70,
   "id": "db54a486",
   "metadata": {},
   "outputs": [
    {
     "name": "stdout",
     "output_type": "stream",
     "text": [
      "--2022-09-22 16:53:17--  https://raw.githubusercontent.com/alexeygrigorev/datasets/master/housing.csv\n",
      "Resolving raw.githubusercontent.com (raw.githubusercontent.com)... 185.199.108.133, 185.199.109.133, 185.199.110.133, ...\n",
      "Connecting to raw.githubusercontent.com (raw.githubusercontent.com)|185.199.108.133|:443... connected.\n",
      "HTTP request sent, awaiting response... 200 OK\n",
      "Length: 1423529 (1.4M) [text/plain]\n",
      "Saving to: ‘house_prices.csv’\n",
      "\n",
      "house_prices.csv    100%[===================>]   1.36M  1.18MB/s    in 1.2s    \n",
      "\n",
      "2022-09-22 16:53:19 (1.18 MB/s) - ‘house_prices.csv’ saved [1423529/1423529]\n",
      "\n"
     ]
    }
   ],
   "source": [
    "# download the dateset\n",
    "!wget $data -O house_prices.csv"
   ]
  },
  {
   "cell_type": "code",
   "execution_count": 71,
   "id": "67ab5d3e",
   "metadata": {},
   "outputs": [],
   "source": [
    "# read dataset\n",
    "df = pd.read_csv('house_prices.csv')"
   ]
  },
  {
   "cell_type": "code",
   "execution_count": 72,
   "id": "7be20145",
   "metadata": {},
   "outputs": [
    {
     "data": {
      "text/plain": [
       "20640"
      ]
     },
     "execution_count": 72,
     "metadata": {},
     "output_type": "execute_result"
    }
   ],
   "source": [
    "# check length of dataset\n",
    "len(df)"
   ]
  },
  {
   "cell_type": "code",
   "execution_count": 73,
   "id": "13f6ea37",
   "metadata": {},
   "outputs": [],
   "source": [
    "# change fields name to small letters and replace white spaces with underscore\n",
    "df.columns = df.columns.str.lower().str.replace(' ','_')\n",
    "\n",
    "# select all the categorical variables and make a list\n",
    "string_columns = list(df.dtypes[df.dtypes == 'object'].index)\n",
    "\n",
    "# loop through the list change the text to small letters and replace white spaces with underscore\n",
    "for col in string_columns:\n",
    "    df[col] = df[col].str.lower().str.replace(' ', '_').str.replace('<', '')"
   ]
  },
  {
   "cell_type": "code",
   "execution_count": 74,
   "id": "3cef6a2b",
   "metadata": {},
   "outputs": [
    {
     "data": {
      "text/html": [
       "<div>\n",
       "<style scoped>\n",
       "    .dataframe tbody tr th:only-of-type {\n",
       "        vertical-align: middle;\n",
       "    }\n",
       "\n",
       "    .dataframe tbody tr th {\n",
       "        vertical-align: top;\n",
       "    }\n",
       "\n",
       "    .dataframe thead th {\n",
       "        text-align: right;\n",
       "    }\n",
       "</style>\n",
       "<table border=\"1\" class=\"dataframe\">\n",
       "  <thead>\n",
       "    <tr style=\"text-align: right;\">\n",
       "      <th></th>\n",
       "      <th>0</th>\n",
       "      <th>1</th>\n",
       "      <th>2</th>\n",
       "      <th>3</th>\n",
       "      <th>4</th>\n",
       "      <th>5</th>\n",
       "      <th>6</th>\n",
       "      <th>7</th>\n",
       "      <th>8</th>\n",
       "      <th>9</th>\n",
       "      <th>...</th>\n",
       "      <th>20630</th>\n",
       "      <th>20631</th>\n",
       "      <th>20632</th>\n",
       "      <th>20633</th>\n",
       "      <th>20634</th>\n",
       "      <th>20635</th>\n",
       "      <th>20636</th>\n",
       "      <th>20637</th>\n",
       "      <th>20638</th>\n",
       "      <th>20639</th>\n",
       "    </tr>\n",
       "  </thead>\n",
       "  <tbody>\n",
       "    <tr>\n",
       "      <th>longitude</th>\n",
       "      <td>-122.23</td>\n",
       "      <td>-122.22</td>\n",
       "      <td>-122.24</td>\n",
       "      <td>-122.25</td>\n",
       "      <td>-122.25</td>\n",
       "      <td>-122.25</td>\n",
       "      <td>-122.25</td>\n",
       "      <td>-122.25</td>\n",
       "      <td>-122.26</td>\n",
       "      <td>-122.25</td>\n",
       "      <td>...</td>\n",
       "      <td>-121.32</td>\n",
       "      <td>-121.4</td>\n",
       "      <td>-121.45</td>\n",
       "      <td>-121.53</td>\n",
       "      <td>-121.56</td>\n",
       "      <td>-121.09</td>\n",
       "      <td>-121.21</td>\n",
       "      <td>-121.22</td>\n",
       "      <td>-121.32</td>\n",
       "      <td>-121.24</td>\n",
       "    </tr>\n",
       "    <tr>\n",
       "      <th>latitude</th>\n",
       "      <td>37.88</td>\n",
       "      <td>37.86</td>\n",
       "      <td>37.85</td>\n",
       "      <td>37.85</td>\n",
       "      <td>37.85</td>\n",
       "      <td>37.85</td>\n",
       "      <td>37.84</td>\n",
       "      <td>37.84</td>\n",
       "      <td>37.84</td>\n",
       "      <td>37.84</td>\n",
       "      <td>...</td>\n",
       "      <td>39.29</td>\n",
       "      <td>39.33</td>\n",
       "      <td>39.26</td>\n",
       "      <td>39.19</td>\n",
       "      <td>39.27</td>\n",
       "      <td>39.48</td>\n",
       "      <td>39.49</td>\n",
       "      <td>39.43</td>\n",
       "      <td>39.43</td>\n",
       "      <td>39.37</td>\n",
       "    </tr>\n",
       "    <tr>\n",
       "      <th>housing_median_age</th>\n",
       "      <td>41.0</td>\n",
       "      <td>21.0</td>\n",
       "      <td>52.0</td>\n",
       "      <td>52.0</td>\n",
       "      <td>52.0</td>\n",
       "      <td>52.0</td>\n",
       "      <td>52.0</td>\n",
       "      <td>52.0</td>\n",
       "      <td>42.0</td>\n",
       "      <td>52.0</td>\n",
       "      <td>...</td>\n",
       "      <td>11.0</td>\n",
       "      <td>15.0</td>\n",
       "      <td>15.0</td>\n",
       "      <td>27.0</td>\n",
       "      <td>28.0</td>\n",
       "      <td>25.0</td>\n",
       "      <td>18.0</td>\n",
       "      <td>17.0</td>\n",
       "      <td>18.0</td>\n",
       "      <td>16.0</td>\n",
       "    </tr>\n",
       "    <tr>\n",
       "      <th>total_rooms</th>\n",
       "      <td>880.0</td>\n",
       "      <td>7099.0</td>\n",
       "      <td>1467.0</td>\n",
       "      <td>1274.0</td>\n",
       "      <td>1627.0</td>\n",
       "      <td>919.0</td>\n",
       "      <td>2535.0</td>\n",
       "      <td>3104.0</td>\n",
       "      <td>2555.0</td>\n",
       "      <td>3549.0</td>\n",
       "      <td>...</td>\n",
       "      <td>2640.0</td>\n",
       "      <td>2655.0</td>\n",
       "      <td>2319.0</td>\n",
       "      <td>2080.0</td>\n",
       "      <td>2332.0</td>\n",
       "      <td>1665.0</td>\n",
       "      <td>697.0</td>\n",
       "      <td>2254.0</td>\n",
       "      <td>1860.0</td>\n",
       "      <td>2785.0</td>\n",
       "    </tr>\n",
       "    <tr>\n",
       "      <th>total_bedrooms</th>\n",
       "      <td>129.0</td>\n",
       "      <td>1106.0</td>\n",
       "      <td>190.0</td>\n",
       "      <td>235.0</td>\n",
       "      <td>280.0</td>\n",
       "      <td>213.0</td>\n",
       "      <td>489.0</td>\n",
       "      <td>687.0</td>\n",
       "      <td>665.0</td>\n",
       "      <td>707.0</td>\n",
       "      <td>...</td>\n",
       "      <td>505.0</td>\n",
       "      <td>493.0</td>\n",
       "      <td>416.0</td>\n",
       "      <td>412.0</td>\n",
       "      <td>395.0</td>\n",
       "      <td>374.0</td>\n",
       "      <td>150.0</td>\n",
       "      <td>485.0</td>\n",
       "      <td>409.0</td>\n",
       "      <td>616.0</td>\n",
       "    </tr>\n",
       "    <tr>\n",
       "      <th>population</th>\n",
       "      <td>322.0</td>\n",
       "      <td>2401.0</td>\n",
       "      <td>496.0</td>\n",
       "      <td>558.0</td>\n",
       "      <td>565.0</td>\n",
       "      <td>413.0</td>\n",
       "      <td>1094.0</td>\n",
       "      <td>1157.0</td>\n",
       "      <td>1206.0</td>\n",
       "      <td>1551.0</td>\n",
       "      <td>...</td>\n",
       "      <td>1257.0</td>\n",
       "      <td>1200.0</td>\n",
       "      <td>1047.0</td>\n",
       "      <td>1082.0</td>\n",
       "      <td>1041.0</td>\n",
       "      <td>845.0</td>\n",
       "      <td>356.0</td>\n",
       "      <td>1007.0</td>\n",
       "      <td>741.0</td>\n",
       "      <td>1387.0</td>\n",
       "    </tr>\n",
       "    <tr>\n",
       "      <th>households</th>\n",
       "      <td>126.0</td>\n",
       "      <td>1138.0</td>\n",
       "      <td>177.0</td>\n",
       "      <td>219.0</td>\n",
       "      <td>259.0</td>\n",
       "      <td>193.0</td>\n",
       "      <td>514.0</td>\n",
       "      <td>647.0</td>\n",
       "      <td>595.0</td>\n",
       "      <td>714.0</td>\n",
       "      <td>...</td>\n",
       "      <td>445.0</td>\n",
       "      <td>432.0</td>\n",
       "      <td>385.0</td>\n",
       "      <td>382.0</td>\n",
       "      <td>344.0</td>\n",
       "      <td>330.0</td>\n",
       "      <td>114.0</td>\n",
       "      <td>433.0</td>\n",
       "      <td>349.0</td>\n",
       "      <td>530.0</td>\n",
       "    </tr>\n",
       "    <tr>\n",
       "      <th>median_income</th>\n",
       "      <td>8.3252</td>\n",
       "      <td>8.3014</td>\n",
       "      <td>7.2574</td>\n",
       "      <td>5.6431</td>\n",
       "      <td>3.8462</td>\n",
       "      <td>4.0368</td>\n",
       "      <td>3.6591</td>\n",
       "      <td>3.12</td>\n",
       "      <td>2.0804</td>\n",
       "      <td>3.6912</td>\n",
       "      <td>...</td>\n",
       "      <td>3.5673</td>\n",
       "      <td>3.5179</td>\n",
       "      <td>3.125</td>\n",
       "      <td>2.5495</td>\n",
       "      <td>3.7125</td>\n",
       "      <td>1.5603</td>\n",
       "      <td>2.5568</td>\n",
       "      <td>1.7</td>\n",
       "      <td>1.8672</td>\n",
       "      <td>2.3886</td>\n",
       "    </tr>\n",
       "    <tr>\n",
       "      <th>median_house_value</th>\n",
       "      <td>452600.0</td>\n",
       "      <td>358500.0</td>\n",
       "      <td>352100.0</td>\n",
       "      <td>341300.0</td>\n",
       "      <td>342200.0</td>\n",
       "      <td>269700.0</td>\n",
       "      <td>299200.0</td>\n",
       "      <td>241400.0</td>\n",
       "      <td>226700.0</td>\n",
       "      <td>261100.0</td>\n",
       "      <td>...</td>\n",
       "      <td>112000.0</td>\n",
       "      <td>107200.0</td>\n",
       "      <td>115600.0</td>\n",
       "      <td>98300.0</td>\n",
       "      <td>116800.0</td>\n",
       "      <td>78100.0</td>\n",
       "      <td>77100.0</td>\n",
       "      <td>92300.0</td>\n",
       "      <td>84700.0</td>\n",
       "      <td>89400.0</td>\n",
       "    </tr>\n",
       "    <tr>\n",
       "      <th>ocean_proximity</th>\n",
       "      <td>near_bay</td>\n",
       "      <td>near_bay</td>\n",
       "      <td>near_bay</td>\n",
       "      <td>near_bay</td>\n",
       "      <td>near_bay</td>\n",
       "      <td>near_bay</td>\n",
       "      <td>near_bay</td>\n",
       "      <td>near_bay</td>\n",
       "      <td>near_bay</td>\n",
       "      <td>near_bay</td>\n",
       "      <td>...</td>\n",
       "      <td>inland</td>\n",
       "      <td>inland</td>\n",
       "      <td>inland</td>\n",
       "      <td>inland</td>\n",
       "      <td>inland</td>\n",
       "      <td>inland</td>\n",
       "      <td>inland</td>\n",
       "      <td>inland</td>\n",
       "      <td>inland</td>\n",
       "      <td>inland</td>\n",
       "    </tr>\n",
       "  </tbody>\n",
       "</table>\n",
       "<p>10 rows × 20640 columns</p>\n",
       "</div>"
      ],
      "text/plain": [
       "                       0         1         2         3         4      \\\n",
       "longitude            -122.23   -122.22   -122.24   -122.25   -122.25   \n",
       "latitude               37.88     37.86     37.85     37.85     37.85   \n",
       "housing_median_age      41.0      21.0      52.0      52.0      52.0   \n",
       "total_rooms            880.0    7099.0    1467.0    1274.0    1627.0   \n",
       "total_bedrooms         129.0    1106.0     190.0     235.0     280.0   \n",
       "population             322.0    2401.0     496.0     558.0     565.0   \n",
       "households             126.0    1138.0     177.0     219.0     259.0   \n",
       "median_income         8.3252    8.3014    7.2574    5.6431    3.8462   \n",
       "median_house_value  452600.0  358500.0  352100.0  341300.0  342200.0   \n",
       "ocean_proximity     near_bay  near_bay  near_bay  near_bay  near_bay   \n",
       "\n",
       "                       5         6         7         8         9      ...  \\\n",
       "longitude            -122.25   -122.25   -122.25   -122.26   -122.25  ...   \n",
       "latitude               37.85     37.84     37.84     37.84     37.84  ...   \n",
       "housing_median_age      52.0      52.0      52.0      42.0      52.0  ...   \n",
       "total_rooms            919.0    2535.0    3104.0    2555.0    3549.0  ...   \n",
       "total_bedrooms         213.0     489.0     687.0     665.0     707.0  ...   \n",
       "population             413.0    1094.0    1157.0    1206.0    1551.0  ...   \n",
       "households             193.0     514.0     647.0     595.0     714.0  ...   \n",
       "median_income         4.0368    3.6591      3.12    2.0804    3.6912  ...   \n",
       "median_house_value  269700.0  299200.0  241400.0  226700.0  261100.0  ...   \n",
       "ocean_proximity     near_bay  near_bay  near_bay  near_bay  near_bay  ...   \n",
       "\n",
       "                       20630     20631     20632    20633     20634    20635  \\\n",
       "longitude            -121.32    -121.4   -121.45  -121.53   -121.56  -121.09   \n",
       "latitude               39.29     39.33     39.26    39.19     39.27    39.48   \n",
       "housing_median_age      11.0      15.0      15.0     27.0      28.0     25.0   \n",
       "total_rooms           2640.0    2655.0    2319.0   2080.0    2332.0   1665.0   \n",
       "total_bedrooms         505.0     493.0     416.0    412.0     395.0    374.0   \n",
       "population            1257.0    1200.0    1047.0   1082.0    1041.0    845.0   \n",
       "households             445.0     432.0     385.0    382.0     344.0    330.0   \n",
       "median_income         3.5673    3.5179     3.125   2.5495    3.7125   1.5603   \n",
       "median_house_value  112000.0  107200.0  115600.0  98300.0  116800.0  78100.0   \n",
       "ocean_proximity       inland    inland    inland   inland    inland   inland   \n",
       "\n",
       "                      20636    20637    20638    20639  \n",
       "longitude           -121.21  -121.22  -121.32  -121.24  \n",
       "latitude              39.49    39.43    39.43    39.37  \n",
       "housing_median_age     18.0     17.0     18.0     16.0  \n",
       "total_rooms           697.0   2254.0   1860.0   2785.0  \n",
       "total_bedrooms        150.0    485.0    409.0    616.0  \n",
       "population            356.0   1007.0    741.0   1387.0  \n",
       "households            114.0    433.0    349.0    530.0  \n",
       "median_income        2.5568      1.7   1.8672   2.3886  \n",
       "median_house_value  77100.0  92300.0  84700.0  89400.0  \n",
       "ocean_proximity      inland   inland   inland   inland  \n",
       "\n",
       "[10 rows x 20640 columns]"
      ]
     },
     "execution_count": 74,
     "metadata": {},
     "output_type": "execute_result"
    }
   ],
   "source": [
    "# transpose table to see column names\n",
    "df.T"
   ]
  },
  {
   "cell_type": "markdown",
   "id": "9c978514",
   "metadata": {},
   "source": [
    "###### Features"
   ]
  },
  {
   "cell_type": "code",
   "execution_count": 75,
   "id": "6cab62a3",
   "metadata": {},
   "outputs": [
    {
     "data": {
      "text/plain": [
       "Index(['longitude', 'latitude', 'housing_median_age', 'total_rooms',\n",
       "       'total_bedrooms', 'population', 'households', 'median_income',\n",
       "       'median_house_value', 'ocean_proximity'],\n",
       "      dtype='object')"
      ]
     },
     "execution_count": 75,
     "metadata": {},
     "output_type": "execute_result"
    }
   ],
   "source": [
    "# columns\n",
    "df.columns"
   ]
  },
  {
   "cell_type": "markdown",
   "id": "0f08495b",
   "metadata": {},
   "source": [
    "###### Data Preparation"
   ]
  },
  {
   "cell_type": "code",
   "execution_count": 76,
   "id": "1c3637d4",
   "metadata": {},
   "outputs": [],
   "source": [
    "# fSelect only the features from above and fill in the missing values with 0.\n",
    "df = df.fillna(0)"
   ]
  },
  {
   "cell_type": "code",
   "execution_count": 77,
   "id": "3a9b10c4",
   "metadata": {},
   "outputs": [],
   "source": [
    "# Create a new column rooms_per_household by dividing the column total_rooms by the column households from dataframe.\n",
    "df['rooms_per_household'] = (df['total_rooms'] / df['households']).round()"
   ]
  },
  {
   "cell_type": "code",
   "execution_count": 78,
   "id": "92c9e86b",
   "metadata": {},
   "outputs": [],
   "source": [
    "# Create a new column bedrooms_per_room by dividing the column total_bedrooms by the column total_rooms from dataframe.\n",
    "df['bedrooms_per_room'] = (df['total_bedrooms'] / df['total_rooms']).round()"
   ]
  },
  {
   "cell_type": "code",
   "execution_count": 79,
   "id": "85b44287",
   "metadata": {},
   "outputs": [],
   "source": [
    "# Create a new column population_per_household by dividing the column population by the column households from dataframe.\n",
    "df['population_per_household'] = (df['population'] / df['households']).round()"
   ]
  },
  {
   "cell_type": "markdown",
   "id": "67cd63ad",
   "metadata": {},
   "source": [
    "###### Question 1\n",
    "What is the most frequent observation (mode) for the column ocean_proximity?"
   ]
  },
  {
   "cell_type": "code",
   "execution_count": 80,
   "id": "2ce9060b",
   "metadata": {},
   "outputs": [
    {
     "data": {
      "text/plain": [
       "1h_ocean      9136\n",
       "inland        6551\n",
       "near_ocean    2658\n",
       "near_bay      2290\n",
       "island           5\n",
       "Name: ocean_proximity, dtype: int64"
      ]
     },
     "execution_count": 80,
     "metadata": {},
     "output_type": "execute_result"
    }
   ],
   "source": [
    "# the most sort after ocean proximity\n",
    "df.ocean_proximity.value_counts()"
   ]
  },
  {
   "cell_type": "markdown",
   "id": "ad4b1444",
   "metadata": {},
   "source": [
    "###### Split the data"
   ]
  },
  {
   "cell_type": "code",
   "execution_count": 81,
   "id": "c1cc18e3",
   "metadata": {},
   "outputs": [],
   "source": [
    "# import sklearn train test split library\n",
    "from sklearn.model_selection import train_test_split"
   ]
  },
  {
   "cell_type": "code",
   "execution_count": 82,
   "id": "5b37ebea",
   "metadata": {},
   "outputs": [],
   "source": [
    "# Split your data in train/val/test sets, with 60%/20%/20% distribution.\n",
    "df_train_full, df_test = train_test_split(df, test_size = .2, random_state = 1)"
   ]
  },
  {
   "cell_type": "code",
   "execution_count": 83,
   "id": "9b1548e2",
   "metadata": {},
   "outputs": [],
   "source": [
    "# Let's create a variable above_average which is 1 if the median_house_value is above its mean value and 0 otherwise.\n",
    "df_train_full['above_average'] = (df_train_full.median_house_value > df_train_full.median_house_value.mean())\n",
    "df_train_full['above_average'] = df_train_full['above_average'].astype(int)"
   ]
  },
  {
   "cell_type": "code",
   "execution_count": 84,
   "id": "5c04ee24",
   "metadata": {},
   "outputs": [],
   "source": [
    "# Use Scikit-Learn for that (the train_test_split function) and set the seed to 42.\n",
    "df_train, df_val = train_test_split(df_train_full, test_size = .33, random_state = 42)"
   ]
  },
  {
   "cell_type": "code",
   "execution_count": 85,
   "id": "0e42646b",
   "metadata": {},
   "outputs": [],
   "source": [
    "# set the target to variables\n",
    "y_train = df_train.above_average.values\n",
    "y_val = df_val.above_average.values"
   ]
  },
  {
   "cell_type": "markdown",
   "id": "50a70b42",
   "metadata": {},
   "source": [
    "###### Question 2\n",
    " * Create the correlation matrix for the numerical features of your train dataset.\n",
    "   * In a correlation matrix, you compute the correlation coefficient between every pair of features in the dataset.\n",
    "  * What are the two features that have the biggest correlation in this dataset?"
   ]
  },
  {
   "cell_type": "code",
   "execution_count": 86,
   "id": "f3674b83",
   "metadata": {
    "scrolled": true
   },
   "outputs": [
    {
     "data": {
      "text/html": [
       "<div>\n",
       "<style scoped>\n",
       "    .dataframe tbody tr th:only-of-type {\n",
       "        vertical-align: middle;\n",
       "    }\n",
       "\n",
       "    .dataframe tbody tr th {\n",
       "        vertical-align: top;\n",
       "    }\n",
       "\n",
       "    .dataframe thead th {\n",
       "        text-align: right;\n",
       "    }\n",
       "</style>\n",
       "<table border=\"1\" class=\"dataframe\">\n",
       "  <thead>\n",
       "    <tr style=\"text-align: right;\">\n",
       "      <th></th>\n",
       "      <th>longitude</th>\n",
       "      <th>latitude</th>\n",
       "      <th>housing_median_age</th>\n",
       "      <th>total_rooms</th>\n",
       "      <th>total_bedrooms</th>\n",
       "      <th>population</th>\n",
       "      <th>households</th>\n",
       "      <th>median_income</th>\n",
       "      <th>median_house_value</th>\n",
       "      <th>rooms_per_household</th>\n",
       "      <th>bedrooms_per_room</th>\n",
       "      <th>population_per_household</th>\n",
       "      <th>above_average</th>\n",
       "    </tr>\n",
       "  </thead>\n",
       "  <tbody>\n",
       "    <tr>\n",
       "      <th>longitude</th>\n",
       "      <td>1.000000</td>\n",
       "      <td>-0.925246</td>\n",
       "      <td>-0.106156</td>\n",
       "      <td>0.037578</td>\n",
       "      <td>0.063881</td>\n",
       "      <td>0.095861</td>\n",
       "      <td>0.049854</td>\n",
       "      <td>-0.018227</td>\n",
       "      <td>-0.050893</td>\n",
       "      <td>-0.026160</td>\n",
       "      <td>0.021263</td>\n",
       "      <td>0.000168</td>\n",
       "      <td>-0.077928</td>\n",
       "    </tr>\n",
       "    <tr>\n",
       "      <th>latitude</th>\n",
       "      <td>-0.925246</td>\n",
       "      <td>1.000000</td>\n",
       "      <td>0.009373</td>\n",
       "      <td>-0.029916</td>\n",
       "      <td>-0.061459</td>\n",
       "      <td>-0.105325</td>\n",
       "      <td>-0.066939</td>\n",
       "      <td>-0.076734</td>\n",
       "      <td>-0.139374</td>\n",
       "      <td>0.106089</td>\n",
       "      <td>-0.026754</td>\n",
       "      <td>0.005328</td>\n",
       "      <td>-0.093387</td>\n",
       "    </tr>\n",
       "    <tr>\n",
       "      <th>housing_median_age</th>\n",
       "      <td>-0.106156</td>\n",
       "      <td>0.009373</td>\n",
       "      <td>1.000000</td>\n",
       "      <td>-0.361784</td>\n",
       "      <td>-0.316600</td>\n",
       "      <td>-0.296996</td>\n",
       "      <td>-0.301496</td>\n",
       "      <td>-0.123550</td>\n",
       "      <td>0.105758</td>\n",
       "      <td>-0.145852</td>\n",
       "      <td>0.031215</td>\n",
       "      <td>0.014510</td>\n",
       "      <td>0.079556</td>\n",
       "    </tr>\n",
       "    <tr>\n",
       "      <th>total_rooms</th>\n",
       "      <td>0.037578</td>\n",
       "      <td>-0.029916</td>\n",
       "      <td>-0.361784</td>\n",
       "      <td>1.000000</td>\n",
       "      <td>0.918916</td>\n",
       "      <td>0.854458</td>\n",
       "      <td>0.916737</td>\n",
       "      <td>0.201318</td>\n",
       "      <td>0.135514</td>\n",
       "      <td>0.127013</td>\n",
       "      <td>-0.043764</td>\n",
       "      <td>-0.025205</td>\n",
       "      <td>0.129480</td>\n",
       "    </tr>\n",
       "    <tr>\n",
       "      <th>total_bedrooms</th>\n",
       "      <td>0.063881</td>\n",
       "      <td>-0.061459</td>\n",
       "      <td>-0.316600</td>\n",
       "      <td>0.918916</td>\n",
       "      <td>1.000000</td>\n",
       "      <td>0.863723</td>\n",
       "      <td>0.965374</td>\n",
       "      <td>-0.006463</td>\n",
       "      <td>0.049703</td>\n",
       "      <td>0.002685</td>\n",
       "      <td>0.002896</td>\n",
       "      <td>-0.028447</td>\n",
       "      <td>0.056058</td>\n",
       "    </tr>\n",
       "    <tr>\n",
       "      <th>population</th>\n",
       "      <td>0.095861</td>\n",
       "      <td>-0.105325</td>\n",
       "      <td>-0.296996</td>\n",
       "      <td>0.854458</td>\n",
       "      <td>0.863723</td>\n",
       "      <td>1.000000</td>\n",
       "      <td>0.905040</td>\n",
       "      <td>0.007521</td>\n",
       "      <td>-0.023884</td>\n",
       "      <td>-0.074465</td>\n",
       "      <td>-0.000382</td>\n",
       "      <td>0.075281</td>\n",
       "      <td>-0.014290</td>\n",
       "    </tr>\n",
       "    <tr>\n",
       "      <th>households</th>\n",
       "      <td>0.049854</td>\n",
       "      <td>-0.066939</td>\n",
       "      <td>-0.301496</td>\n",
       "      <td>0.916737</td>\n",
       "      <td>0.965374</td>\n",
       "      <td>0.905040</td>\n",
       "      <td>1.000000</td>\n",
       "      <td>0.013801</td>\n",
       "      <td>0.066801</td>\n",
       "      <td>-0.083051</td>\n",
       "      <td>0.000419</td>\n",
       "      <td>-0.027990</td>\n",
       "      <td>0.075137</td>\n",
       "    </tr>\n",
       "    <tr>\n",
       "      <th>median_income</th>\n",
       "      <td>-0.018227</td>\n",
       "      <td>-0.076734</td>\n",
       "      <td>-0.123550</td>\n",
       "      <td>0.201318</td>\n",
       "      <td>-0.006463</td>\n",
       "      <td>0.007521</td>\n",
       "      <td>0.013801</td>\n",
       "      <td>1.000000</td>\n",
       "      <td>0.688194</td>\n",
       "      <td>0.308099</td>\n",
       "      <td>-0.065533</td>\n",
       "      <td>0.022775</td>\n",
       "      <td>0.543962</td>\n",
       "    </tr>\n",
       "    <tr>\n",
       "      <th>median_house_value</th>\n",
       "      <td>-0.050893</td>\n",
       "      <td>-0.139374</td>\n",
       "      <td>0.105758</td>\n",
       "      <td>0.135514</td>\n",
       "      <td>0.049703</td>\n",
       "      <td>-0.023884</td>\n",
       "      <td>0.066801</td>\n",
       "      <td>0.688194</td>\n",
       "      <td>1.000000</td>\n",
       "      <td>0.145732</td>\n",
       "      <td>-0.000116</td>\n",
       "      <td>-0.021638</td>\n",
       "      <td>0.805139</td>\n",
       "    </tr>\n",
       "    <tr>\n",
       "      <th>rooms_per_household</th>\n",
       "      <td>-0.026160</td>\n",
       "      <td>0.106089</td>\n",
       "      <td>-0.145852</td>\n",
       "      <td>0.127013</td>\n",
       "      <td>0.002685</td>\n",
       "      <td>-0.074465</td>\n",
       "      <td>-0.083051</td>\n",
       "      <td>0.308099</td>\n",
       "      <td>0.145732</td>\n",
       "      <td>1.000000</td>\n",
       "      <td>-0.076071</td>\n",
       "      <td>-0.005106</td>\n",
       "      <td>0.106563</td>\n",
       "    </tr>\n",
       "    <tr>\n",
       "      <th>bedrooms_per_room</th>\n",
       "      <td>0.021263</td>\n",
       "      <td>-0.026754</td>\n",
       "      <td>0.031215</td>\n",
       "      <td>-0.043764</td>\n",
       "      <td>0.002896</td>\n",
       "      <td>-0.000382</td>\n",
       "      <td>0.000419</td>\n",
       "      <td>-0.065533</td>\n",
       "      <td>-0.000116</td>\n",
       "      <td>-0.076071</td>\n",
       "      <td>1.000000</td>\n",
       "      <td>-0.000118</td>\n",
       "      <td>-0.006434</td>\n",
       "    </tr>\n",
       "    <tr>\n",
       "      <th>population_per_household</th>\n",
       "      <td>0.000168</td>\n",
       "      <td>0.005328</td>\n",
       "      <td>0.014510</td>\n",
       "      <td>-0.025205</td>\n",
       "      <td>-0.028447</td>\n",
       "      <td>0.075281</td>\n",
       "      <td>-0.027990</td>\n",
       "      <td>0.022775</td>\n",
       "      <td>-0.021638</td>\n",
       "      <td>-0.005106</td>\n",
       "      <td>-0.000118</td>\n",
       "      <td>1.000000</td>\n",
       "      <td>-0.021265</td>\n",
       "    </tr>\n",
       "    <tr>\n",
       "      <th>above_average</th>\n",
       "      <td>-0.077928</td>\n",
       "      <td>-0.093387</td>\n",
       "      <td>0.079556</td>\n",
       "      <td>0.129480</td>\n",
       "      <td>0.056058</td>\n",
       "      <td>-0.014290</td>\n",
       "      <td>0.075137</td>\n",
       "      <td>0.543962</td>\n",
       "      <td>0.805139</td>\n",
       "      <td>0.106563</td>\n",
       "      <td>-0.006434</td>\n",
       "      <td>-0.021265</td>\n",
       "      <td>1.000000</td>\n",
       "    </tr>\n",
       "  </tbody>\n",
       "</table>\n",
       "</div>"
      ],
      "text/plain": [
       "                          longitude  latitude  housing_median_age  \\\n",
       "longitude                  1.000000 -0.925246           -0.106156   \n",
       "latitude                  -0.925246  1.000000            0.009373   \n",
       "housing_median_age        -0.106156  0.009373            1.000000   \n",
       "total_rooms                0.037578 -0.029916           -0.361784   \n",
       "total_bedrooms             0.063881 -0.061459           -0.316600   \n",
       "population                 0.095861 -0.105325           -0.296996   \n",
       "households                 0.049854 -0.066939           -0.301496   \n",
       "median_income             -0.018227 -0.076734           -0.123550   \n",
       "median_house_value        -0.050893 -0.139374            0.105758   \n",
       "rooms_per_household       -0.026160  0.106089           -0.145852   \n",
       "bedrooms_per_room          0.021263 -0.026754            0.031215   \n",
       "population_per_household   0.000168  0.005328            0.014510   \n",
       "above_average             -0.077928 -0.093387            0.079556   \n",
       "\n",
       "                          total_rooms  total_bedrooms  population  households  \\\n",
       "longitude                    0.037578        0.063881    0.095861    0.049854   \n",
       "latitude                    -0.029916       -0.061459   -0.105325   -0.066939   \n",
       "housing_median_age          -0.361784       -0.316600   -0.296996   -0.301496   \n",
       "total_rooms                  1.000000        0.918916    0.854458    0.916737   \n",
       "total_bedrooms               0.918916        1.000000    0.863723    0.965374   \n",
       "population                   0.854458        0.863723    1.000000    0.905040   \n",
       "households                   0.916737        0.965374    0.905040    1.000000   \n",
       "median_income                0.201318       -0.006463    0.007521    0.013801   \n",
       "median_house_value           0.135514        0.049703   -0.023884    0.066801   \n",
       "rooms_per_household          0.127013        0.002685   -0.074465   -0.083051   \n",
       "bedrooms_per_room           -0.043764        0.002896   -0.000382    0.000419   \n",
       "population_per_household    -0.025205       -0.028447    0.075281   -0.027990   \n",
       "above_average                0.129480        0.056058   -0.014290    0.075137   \n",
       "\n",
       "                          median_income  median_house_value  \\\n",
       "longitude                     -0.018227           -0.050893   \n",
       "latitude                      -0.076734           -0.139374   \n",
       "housing_median_age            -0.123550            0.105758   \n",
       "total_rooms                    0.201318            0.135514   \n",
       "total_bedrooms                -0.006463            0.049703   \n",
       "population                     0.007521           -0.023884   \n",
       "households                     0.013801            0.066801   \n",
       "median_income                  1.000000            0.688194   \n",
       "median_house_value             0.688194            1.000000   \n",
       "rooms_per_household            0.308099            0.145732   \n",
       "bedrooms_per_room             -0.065533           -0.000116   \n",
       "population_per_household       0.022775           -0.021638   \n",
       "above_average                  0.543962            0.805139   \n",
       "\n",
       "                          rooms_per_household  bedrooms_per_room  \\\n",
       "longitude                           -0.026160           0.021263   \n",
       "latitude                             0.106089          -0.026754   \n",
       "housing_median_age                  -0.145852           0.031215   \n",
       "total_rooms                          0.127013          -0.043764   \n",
       "total_bedrooms                       0.002685           0.002896   \n",
       "population                          -0.074465          -0.000382   \n",
       "households                          -0.083051           0.000419   \n",
       "median_income                        0.308099          -0.065533   \n",
       "median_house_value                   0.145732          -0.000116   \n",
       "rooms_per_household                  1.000000          -0.076071   \n",
       "bedrooms_per_room                   -0.076071           1.000000   \n",
       "population_per_household            -0.005106          -0.000118   \n",
       "above_average                        0.106563          -0.006434   \n",
       "\n",
       "                          population_per_household  above_average  \n",
       "longitude                                 0.000168      -0.077928  \n",
       "latitude                                  0.005328      -0.093387  \n",
       "housing_median_age                        0.014510       0.079556  \n",
       "total_rooms                              -0.025205       0.129480  \n",
       "total_bedrooms                           -0.028447       0.056058  \n",
       "population                                0.075281      -0.014290  \n",
       "households                               -0.027990       0.075137  \n",
       "median_income                             0.022775       0.543962  \n",
       "median_house_value                       -0.021638       0.805139  \n",
       "rooms_per_household                      -0.005106       0.106563  \n",
       "bedrooms_per_room                        -0.000118      -0.006434  \n",
       "population_per_household                  1.000000      -0.021265  \n",
       "above_average                            -0.021265       1.000000  "
      ]
     },
     "execution_count": 86,
     "metadata": {},
     "output_type": "execute_result"
    }
   ],
   "source": [
    "# determine the correlation between numerical values and median value price\n",
    "df_train_full.corr()"
   ]
  },
  {
   "cell_type": "code",
   "execution_count": 87,
   "id": "b7d5d276",
   "metadata": {},
   "outputs": [
    {
     "data": {
      "image/png": "[encoded data removed]",
      "text/plain": [
       "<Figure size 1800x1080 with 2 Axes>"
      ]
     },
     "metadata": {
      "needs_background": "light"
     },
     "output_type": "display_data"
    }
   ],
   "source": [
    "# correlation matrix plot\n",
    "plt.rcParams['figure.figsize'] = (25.0, 15.0)\n",
    "sns.heatmap(df_train_full.corr(), annot=True);"
   ]
  },
  {
   "cell_type": "markdown",
   "id": "4f027c41",
   "metadata": {},
   "source": [
    "###### Make median_house_value binary\n",
    "We need to turn the median_house_value variable from numeric into binary."
   ]
  },
  {
   "cell_type": "markdown",
   "id": "407b9b4a",
   "metadata": {},
   "source": [
    "###### Question 3"
   ]
  },
  {
   "cell_type": "code",
   "execution_count": 88,
   "id": "c1047242",
   "metadata": {},
   "outputs": [],
   "source": [
    "# import mutual infor score library\n",
    "from sklearn.metrics import mutual_info_score"
   ]
  },
  {
   "cell_type": "code",
   "execution_count": 89,
   "id": "4e4eff22",
   "metadata": {},
   "outputs": [],
   "source": [
    "# save categprical variable to series\n",
    "cat = ['ocean_proximity']"
   ]
  },
  {
   "cell_type": "code",
   "execution_count": 90,
   "id": "55f8680a",
   "metadata": {},
   "outputs": [
    {
     "data": {
      "text/html": [
       "<div>\n",
       "<style scoped>\n",
       "    .dataframe tbody tr th:only-of-type {\n",
       "        vertical-align: middle;\n",
       "    }\n",
       "\n",
       "    .dataframe tbody tr th {\n",
       "        vertical-align: top;\n",
       "    }\n",
       "\n",
       "    .dataframe thead th {\n",
       "        text-align: right;\n",
       "    }\n",
       "</style>\n",
       "<table border=\"1\" class=\"dataframe\">\n",
       "  <thead>\n",
       "    <tr style=\"text-align: right;\">\n",
       "      <th></th>\n",
       "      <th>MI</th>\n",
       "    </tr>\n",
       "  </thead>\n",
       "  <tbody>\n",
       "    <tr>\n",
       "      <th>ocean_proximity</th>\n",
       "      <td>0.104507</td>\n",
       "    </tr>\n",
       "  </tbody>\n",
       "</table>\n",
       "</div>"
      ],
      "text/plain": [
       "                       MI\n",
       "ocean_proximity  0.104507"
      ]
     },
     "metadata": {},
     "output_type": "display_data"
    }
   ],
   "source": [
    "# What is the value of mutual information? Round it to 2 decimal digits using round(score, 2)\n",
    "df_mi = df_train[cat].apply(lambda x: mutual_info_score(x, df_train.above_average))\n",
    "\n",
    "df_mi = df_mi.sort_values(ascending = False).to_frame(name = 'MI')\n",
    "\n",
    "display(df_mi)"
   ]
  },
  {
   "cell_type": "code",
   "execution_count": 91,
   "id": "a79b2105",
   "metadata": {},
   "outputs": [],
   "source": [
    "# Make sure that the target value (median_house_value) is not in your dataframe.\n",
    "del df_train['above_average']\n",
    "del df_val['above_average']"
   ]
  },
  {
   "cell_type": "markdown",
   "id": "44f1eb32",
   "metadata": {},
   "source": [
    "###### Question 4"
   ]
  },
  {
   "cell_type": "code",
   "execution_count": 92,
   "id": "c91a4edf",
   "metadata": {},
   "outputs": [],
   "source": [
    "# Now let's train a logistic regression\n",
    "# import logistic regression library\n",
    "from sklearn.linear_model import LogisticRegression\n",
    "\n",
    "# DictVectoriser for encoding and transforming categorical variables\n",
    "from sklearn.feature_extraction import DictVectorizer"
   ]
  },
  {
   "cell_type": "code",
   "execution_count": 93,
   "id": "2f7f66db",
   "metadata": {},
   "outputs": [],
   "source": [
    "# Remember that we have one categorical variable ocean_proximity in the data. Include it using one-hot encoding.\n",
    "# convert to dictionary\n",
    "train_dict = df_train.to_dict(orient = 'records')"
   ]
  },
  {
   "cell_type": "code",
   "execution_count": 94,
   "id": "e53c41cb",
   "metadata": {},
   "outputs": [
    {
     "data": {
      "text/plain": [
       "{'longitude': -118.31,\n",
       " 'latitude': 34.09,\n",
       " 'housing_median_age': 42.0,\n",
       " 'total_rooms': 1951.0,\n",
       " 'total_bedrooms': 846.0,\n",
       " 'population': 2500.0,\n",
       " 'households': 813.0,\n",
       " 'median_income': 1.5195,\n",
       " 'median_house_value': 218200.0,\n",
       " 'ocean_proximity': '1h_ocean',\n",
       " 'rooms_per_household': 2.0,\n",
       " 'bedrooms_per_room': 0.0,\n",
       " 'population_per_household': 3.0}"
      ]
     },
     "execution_count": 94,
     "metadata": {},
     "output_type": "execute_result"
    }
   ],
   "source": [
    "# view dictionary\n",
    "train_dict[0]"
   ]
  },
  {
   "cell_type": "code",
   "execution_count": 95,
   "id": "e0f7fca7",
   "metadata": {},
   "outputs": [
    {
     "data": {
      "text/plain": [
       "DictVectorizer(sparse=False)"
      ]
     },
     "execution_count": 95,
     "metadata": {},
     "output_type": "execute_result"
    }
   ],
   "source": [
    "# fit the train_dict data in Dictvectoriser\n",
    "dv = DictVectorizer(sparse = False)\n",
    "dv.fit(train_dict)"
   ]
  },
  {
   "cell_type": "code",
   "execution_count": 96,
   "id": "b60249d8",
   "metadata": {},
   "outputs": [
    {
     "data": {
      "text/plain": [
       "(11063, 17)"
      ]
     },
     "execution_count": 96,
     "metadata": {},
     "output_type": "execute_result"
    }
   ],
   "source": [
    "# transform the train_dict data\n",
    "X_train = dv.transform(train_dict)\n",
    "X_train.shape"
   ]
  },
  {
   "cell_type": "code",
   "execution_count": 97,
   "id": "1a1be430",
   "metadata": {},
   "outputs": [
    {
     "name": "stderr",
     "output_type": "stream",
     "text": [
      "/home/nerd/anaconda3/lib/python3.9/site-packages/sklearn/utils/deprecation.py:87: FutureWarning: Function get_feature_names is deprecated; get_feature_names is deprecated in 1.0 and will be removed in 1.2. Please use get_feature_names_out instead.\n",
      "  warnings.warn(msg, category=FutureWarning)\n"
     ]
    },
    {
     "data": {
      "text/plain": [
       "['bedrooms_per_room',\n",
       " 'households',\n",
       " 'housing_median_age',\n",
       " 'latitude',\n",
       " 'longitude',\n",
       " 'median_house_value',\n",
       " 'median_income',\n",
       " 'ocean_proximity=1h_ocean',\n",
       " 'ocean_proximity=inland',\n",
       " 'ocean_proximity=island',\n",
       " 'ocean_proximity=near_bay',\n",
       " 'ocean_proximity=near_ocean',\n",
       " 'population',\n",
       " 'population_per_household',\n",
       " 'rooms_per_household',\n",
       " 'total_bedrooms',\n",
       " 'total_rooms']"
      ]
     },
     "execution_count": 97,
     "metadata": {},
     "output_type": "execute_result"
    }
   ],
   "source": [
    "# get feautre names of the tranformed data\n",
    "dv.get_feature_names()"
   ]
  },
  {
   "cell_type": "code",
   "execution_count": 98,
   "id": "f5c1085b",
   "metadata": {},
   "outputs": [
    {
     "data": {
      "text/plain": [
       "LogisticRegression(max_iter=1000, random_state=42, solver='liblinear')"
      ]
     },
     "execution_count": 98,
     "metadata": {},
     "output_type": "execute_result"
    }
   ],
   "source": [
    "# Fit the model on the training dataset.\n",
    "model = LogisticRegression(solver=\"liblinear\", C=1.0, max_iter=1000, random_state=42)\n",
    "model.fit(X_train, y_train)"
   ]
  },
  {
   "cell_type": "code",
   "execution_count": 99,
   "id": "b87996b6",
   "metadata": {},
   "outputs": [],
   "source": [
    "# combining the validation data for encoding\n",
    "val_dict = df_val.to_dict(orient='records') \n",
    "X_val = dv.transform(val_dict)"
   ]
  },
  {
   "cell_type": "code",
   "execution_count": 100,
   "id": "4d57ed5b",
   "metadata": {},
   "outputs": [],
   "source": [
    "from sklearn.metrics import accuracy_score"
   ]
  },
  {
   "cell_type": "code",
   "execution_count": 101,
   "id": "d0b868e7",
   "metadata": {},
   "outputs": [
    {
     "name": "stdout",
     "output_type": "stream",
     "text": [
      "0.99\n"
     ]
    }
   ],
   "source": [
    "# To make sure the results are reproducible across different versions of Scikit-Learn, fit the model with these parameters:\n",
    "y_pred = model.predict(X_val)\n",
    "\n",
    "accuracy = np.round(accuracy_score(y_val, y_pred),2)\n",
    "print(accuracy)"
   ]
  },
  {
   "cell_type": "code",
   "execution_count": null,
   "id": "5049213a",
   "metadata": {},
   "outputs": [],
   "source": []
  }
 ],
 "metadata": {
  "kernelspec": {
   "display_name": "Python 3 (ipykernel)",
   "language": "python",
   "name": "python3"
  },
  "language_info": {
   "codemirror_mode": {
    "name": "ipython",
    "version": 3
   },
   "file_extension": ".py",
   "mimetype": "text/x-python",
   "name": "python",
   "nbconvert_exporter": "python",
   "pygments_lexer": "ipython3",
   "version": "3.9.12"
  }
 },
 "nbformat": 4,
 "nbformat_minor": 5
}

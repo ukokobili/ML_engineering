{
 "cells": [
  {
   "cell_type": "code",
   "execution_count": 1,
   "id": "952bf02f",
   "metadata": {},
   "outputs": [],
   "source": [
    "import requests"
   ]
  },
  {
   "cell_type": "code",
   "execution_count": 2,
   "id": "31e5037f",
   "metadata": {},
   "outputs": [
    {
     "name": "stdout",
     "output_type": "stream",
     "text": [
      "{'churn': False, 'churn_probability': 0.16213414434326598}\n"
     ]
    }
   ],
   "source": [
    "url = \"http://localhost:9696/predict\"\n",
    "\n",
    "customer = {\"reports\": 0, \"share\": 0.001694, \"expenditure\": 0.12, \"owner\": \"yes\"}\n",
    "respose = requests.post(url, json=customer).json()\n",
    "\n",
    "\n",
    "print(respose)"
   ]
  },
  {
   "cell_type": "code",
   "execution_count": 4,
   "id": "a93e35b1",
   "metadata": {},
   "outputs": [
    {
     "name": "stdout",
     "output_type": "stream",
     "text": [
      "{'card': True, 'card_probability': 0.9282218018527452}\n"
     ]
    }
   ],
   "source": [
    "url = \"http://localhost:9696/predict\"\n",
    "\n",
    "client = {\"reports\": 0, \"share\": 0.245, \"expenditure\": 3.438, \"owner\": \"yes\"}\n",
    "respose = requests.post(url, json=client).json()\n",
    "\n",
    "print(respose)"
   ]
  },
  {
   "cell_type": "code",
   "execution_count": null,
   "id": "da807757",
   "metadata": {},
   "outputs": [],
   "source": []
  }
 ],
 "metadata": {
  "kernelspec": {
   "display_name": "Python 3 (ipykernel)",
   "language": "python",
   "name": "python3"
  },
  "language_info": {
   "codemirror_mode": {
    "name": "ipython",
    "version": 3
   },
   "file_extension": ".py",
   "mimetype": "text/x-python",
   "name": "python",
   "nbconvert_exporter": "python",
   "pygments_lexer": "ipython3",
   "version": "3.9.12"
  }
 },
 "nbformat": 4,
 "nbformat_minor": 5
}

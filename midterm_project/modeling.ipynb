{
 "cells": [
  {
   "cell_type": "markdown",
   "id": "51e86581",
   "metadata": {},
   "source": [
    "# ML Zoomcamp Mid-Term Project \n",
    "### Travel Insurance Classification Model\n",
    "\n",
    "The purpose of this model is to predict if a customer bought Travel Insurance Package during the introductory offering held 2019."
   ]
  },
  {
   "cell_type": "markdown",
   "id": "98c28710",
   "metadata": {},
   "source": [
    "## Data Preparation"
   ]
  },
  {
   "cell_type": "code",
   "execution_count": 1,
   "id": "e6d91f85",
   "metadata": {},
   "outputs": [],
   "source": [
    "# import pyhton libraries\n",
    "import pandas as pd\n",
    "import numpy as np\n",
    "import seaborn as sns\n",
    "from matplotlib import pyplot as plt\n",
    "%matplotlib inline\n",
    "import bentoml\n",
    "from sklearn.metrics import roc_auc_score\n",
    "from sklearn import metrics\n",
    "from sklearn.tree import DecisionTreeClassifier\n",
    "from sklearn.ensemble import RandomForestClassifier\n",
    "import xgboost as xgb\n",
    "from sklearn.model_selection import train_test_split\n",
    "from sklearn.feature_extraction import DictVectorizer\n",
    "from sklearn.metrics import confusion_matrix, precision_score, recall_score, accuracy_score, classification_report, f1_score"
   ]
  },
  {
   "cell_type": "code",
   "execution_count": 2,
   "id": "2201bd09",
   "metadata": {},
   "outputs": [],
   "source": [
    "# load dataset\n",
    "df = pd.read_csv('TravelInsurancePrediction.csv')"
   ]
  },
  {
   "cell_type": "code",
   "execution_count": 3,
   "id": "6ee57782",
   "metadata": {},
   "outputs": [
    {
     "data": {
      "text/plain": [
       "(1987, 10)"
      ]
     },
     "execution_count": 3,
     "metadata": {},
     "output_type": "execute_result"
    }
   ],
   "source": [
    "# check size of dataframe\n",
    "df.shape"
   ]
  },
  {
   "cell_type": "code",
   "execution_count": 4,
   "id": "912e6a13",
   "metadata": {},
   "outputs": [],
   "source": [
    "# delete the Unnamed column \n",
    "del df['Unnamed: 0']"
   ]
  },
  {
   "cell_type": "code",
   "execution_count": 5,
   "id": "fec97daa",
   "metadata": {},
   "outputs": [],
   "source": [
    "# change fields name to small letters and replace white spaces with underscore\n",
    "df.columns = df.columns.str.lower().str.replace(' ','_')\n",
    "\n",
    "# select all the categorical variables and make a list\n",
    "string_columns = list(df.dtypes[df.dtypes == 'object'].index)\n",
    "\n",
    "# loop through the list change the text to small letters and replace white spaces with underscore\n",
    "for col in string_columns:\n",
    "    df[col] = df[col].str.lower().str.replace(' ', '_')"
   ]
  },
  {
   "cell_type": "code",
   "execution_count": 6,
   "id": "70e7ec69",
   "metadata": {},
   "outputs": [],
   "source": [
    "# split data for train dataset\n",
    "df_train, df_test = train_test_split(df, test_size=0.2, random_state=11)\n",
    "\n",
    "df_train = df_train.reset_index(drop=True)\n",
    "df_test = df_test.reset_index(drop=True)"
   ]
  },
  {
   "cell_type": "code",
   "execution_count": 7,
   "id": "8030eabc",
   "metadata": {},
   "outputs": [],
   "source": [
    "# set the target to variables\n",
    "y_train = df_train.travelinsurance.values\n",
    "y_test = df_test.travelinsurance.values"
   ]
  },
  {
   "cell_type": "code",
   "execution_count": 8,
   "id": "108943f1",
   "metadata": {},
   "outputs": [],
   "source": [
    "# delete the churn field from the train and val dataset\n",
    "del df_train['travelinsurance']\n",
    "del df_test['travelinsurance']"
   ]
  },
  {
   "cell_type": "code",
   "execution_count": 9,
   "id": "20ec37ff",
   "metadata": {},
   "outputs": [],
   "source": [
    "# split the train dataset into categorical variable\n",
    "categorical = list(df.dtypes[df.dtypes == 'object'].index)\n",
    "\n",
    "# split the train dataset into numerical variable\n",
    "numerical = ['age', 'annualincome', 'familymembers', 'chronicdiseases']"
   ]
  },
  {
   "cell_type": "markdown",
   "id": "fa7e33cf",
   "metadata": {},
   "source": [
    "## Building ML Models"
   ]
  },
  {
   "cell_type": "code",
   "execution_count": 10,
   "id": "12b0bcef",
   "metadata": {},
   "outputs": [],
   "source": [
    "# merge cat and num dataset\n",
    "columns = categorical + numerical\n",
    "train_dicts = df_train[columns].to_dict(orient = 'records')\n",
    "test_dicts = df_test[columns].to_dict(orient = 'records')"
   ]
  },
  {
   "cell_type": "code",
   "execution_count": 11,
   "id": "33915d34",
   "metadata": {},
   "outputs": [],
   "source": [
    "# assign the DictVectorizer to a variable\n",
    "dv = DictVectorizer(sparse=False)\n",
    "\n",
    "# fit the train set for transformation\n",
    "X_train = dv.fit_transform(train_dicts)\n",
    "\n",
    "# fit the validation set for transformation\n",
    "X_test = dv.transform(test_dicts)"
   ]
  },
  {
   "cell_type": "code",
   "execution_count": 12,
   "id": "719e1233",
   "metadata": {},
   "outputs": [
    {
     "data": {
      "text/plain": [
       "DecisionTreeClassifier()"
      ]
     },
     "execution_count": 12,
     "metadata": {},
     "output_type": "execute_result"
    }
   ],
   "source": [
    "dt = DecisionTreeClassifier()\n",
    "# fit the features and taregt variables for training \n",
    "dt.fit(X_train, y_train)"
   ]
  },
  {
   "cell_type": "code",
   "execution_count": 13,
   "id": "7a9426b3",
   "metadata": {},
   "outputs": [
    {
     "data": {
      "text/plain": [
       "RandomForestClassifier()"
      ]
     },
     "execution_count": 13,
     "metadata": {},
     "output_type": "execute_result"
    }
   ],
   "source": [
    "rf = RandomForestClassifier()\n",
    "# fit the features and taregt variables for training \n",
    "rf.fit(X_train, y_train)"
   ]
  },
  {
   "cell_type": "code",
   "execution_count": 14,
   "id": "0eac510d",
   "metadata": {},
   "outputs": [
    {
     "data": {
      "text/plain": [
       "XGBClassifier(base_score=0.5, booster='gbtree', callbacks=None,\n",
       "              colsample_bylevel=1, colsample_bynode=1, colsample_bytree=1,\n",
       "              early_stopping_rounds=None, enable_categorical=False,\n",
       "              eval_metric=None, gamma=0, gpu_id=-1, grow_policy='depthwise',\n",
       "              importance_type=None, interaction_constraints='',\n",
       "              learning_rate=0.300000012, max_bin=256, max_cat_to_onehot=4,\n",
       "              max_delta_step=0, max_depth=6, max_leaves=0, min_child_weight=1,\n",
       "              missing=nan, monotone_constraints='()', n_estimators=100,\n",
       "              n_jobs=0, num_parallel_tree=1, predictor='auto', random_state=0,\n",
       "              reg_alpha=0, reg_lambda=1, ...)"
      ]
     },
     "execution_count": 14,
     "metadata": {},
     "output_type": "execute_result"
    }
   ],
   "source": [
    "xg = xgb.XGBClassifier()\n",
    "# fit the features and taregt variables for training \n",
    "xg.fit(X_train, y_train)"
   ]
  },
  {
   "cell_type": "code",
   "execution_count": 15,
   "id": "71d34505",
   "metadata": {},
   "outputs": [],
   "source": [
    "# making prediction with different algorithm\n",
    "dt_pred = dt.predict(X_test)\n",
    "tr_pred = rf.predict(X_test)\n",
    "xg_pred = xg.predict(X_test)"
   ]
  },
  {
   "cell_type": "markdown",
   "id": "51071e98",
   "metadata": {},
   "source": [
    "## Model Evaluation\n",
    "#### Confusion Matrix And Scores Of Accuracy, Recall, Precision And F1-Score"
   ]
  },
  {
   "cell_type": "code",
   "execution_count": 16,
   "id": "a01596b1",
   "metadata": {},
   "outputs": [
    {
     "name": "stdout",
     "output_type": "stream",
     "text": [
      "0.789 0.733 0.565 0.638\n",
      "0.809 0.757 0.618 0.681\n",
      "0.817 0.784 0.611 0.687\n",
      "\n",
      "\n",
      "[[245  22]\n",
      " [ 51  80]]\n",
      "              precision    recall  f1-score   support\n",
      "\n",
      "           0       0.83      0.92      0.87       267\n",
      "           1       0.78      0.61      0.69       131\n",
      "\n",
      "    accuracy                           0.82       398\n",
      "   macro avg       0.81      0.76      0.78       398\n",
      "weighted avg       0.81      0.82      0.81       398\n",
      "\n"
     ]
    }
   ],
   "source": [
    "print(accuracy_score(y_test, dt_pred).round(3), precision_score(y_test, dt_pred).round(3),\n",
    "      recall_score(y_test, dt_pred).round(3), f1_score(y_test, dt_pred).round(3))\n",
    "\n",
    "print(accuracy_score(y_test, tr_pred).round(3), precision_score(y_test, tr_pred).round(3),\n",
    "       recall_score(y_test, tr_pred).round(3), f1_score(y_test, tr_pred).round(3))\n",
    "\n",
    "print(accuracy_score(y_test, xg_pred).round(3), precision_score(y_test, xg_pred).round(3),\n",
    "       recall_score(y_test, xg_pred).round(3), f1_score(y_test,xg_pred).round(3))\n",
    "\n",
    "print(\"\\n\")\n",
    "print(confusion_matrix(y_test, xg_pred).round(3))\n",
    "#true positive 848 and true negative 172\n",
    "#false positive 59 and false negative 126\n",
    "\n",
    "print(classification_report(y_test, xg_pred)) #shows all "
   ]
  },
  {
   "cell_type": "code",
   "execution_count": 17,
   "id": "964c8db8",
   "metadata": {},
   "outputs": [
    {
     "data": {
      "image/png": "[encoded data removed]",
      "text/plain": [
       "<Figure size 432x288 with 2 Axes>"
      ]
     },
     "metadata": {
      "needs_background": "light"
     },
     "output_type": "display_data"
    }
   ],
   "source": [
    "# plotting the confusion matrix\n",
    "con = confusion_matrix(y_test, xg_pred).round(3)\n",
    "sns.heatmap(con, annot = True, fmt = 'd');"
   ]
  },
  {
   "cell_type": "code",
   "execution_count": 18,
   "id": "958285c8",
   "metadata": {},
   "outputs": [
    {
     "data": {
      "image/png": "[encoded data removed]",
      "text/plain": [
       "<Figure size 432x288 with 1 Axes>"
      ]
     },
     "metadata": {
      "needs_background": "light"
     },
     "output_type": "display_data"
    }
   ],
   "source": [
    "#set up plotting area\n",
    "plt.figure(0).clf()\n",
    "\n",
    "#fit decision tree model and plot ROC curve\n",
    "y_pred = dt.predict_proba(X_test)[:, 1]\n",
    "fpr, tpr, _ = metrics.roc_curve(y_test, y_pred)\n",
    "auc = round(metrics.roc_auc_score(y_test, y_pred), 2)\n",
    "plt.plot(fpr,tpr,label=\"Decision Tree, AUC=\"+str(auc))\n",
    "\n",
    "#fit random forrest model and plot ROC curve\n",
    "y_pred = rf.predict_proba(X_test)[:, 1]\n",
    "fpr, tpr, _ = metrics.roc_curve(y_test, y_pred)\n",
    "auc = round(metrics.roc_auc_score(y_test, y_pred), 2)\n",
    "plt.plot(fpr,tpr,label=\"Ranfdom Forrest, AUC=\"+str(auc))\n",
    "\n",
    "#fit xgboost model and plot ROC curve\n",
    "y_pred = xg.predict_proba(X_test)[:, 1]\n",
    "fpr, tpr, _ = metrics.roc_curve(y_test, y_pred)\n",
    "auc = round(metrics.roc_auc_score(y_test, y_pred), 2)\n",
    "plt.plot(fpr,tpr,label=\"XG Boost, AUC=\"+str(auc))\n",
    "\n",
    "\n",
    "#add legend\n",
    "plt.legend();"
   ]
  },
  {
   "cell_type": "markdown",
   "id": "fe18d3e9",
   "metadata": {},
   "source": [
    "## Hyper-parameter Tuning"
   ]
  },
  {
   "cell_type": "code",
   "execution_count": 19,
   "id": "ff8d20e0",
   "metadata": {},
   "outputs": [],
   "source": [
    "dtrain = xgb.DMatrix(X_train, label=y_train)\n",
    "dtest = xgb.DMatrix(X_test, label=y_test)"
   ]
  },
  {
   "cell_type": "code",
   "execution_count": 20,
   "id": "77766839",
   "metadata": {},
   "outputs": [],
   "source": [
    "xgb_params = {\n",
    "    'eta': 0.001, \n",
    "    'max_depth': 10,\n",
    "    'min_child_weight': 1,\n",
    "    \n",
    "    'objective': 'binary:logistic',\n",
    "    'eval_metric': 'auc',\n",
    "\n",
    "    'nthread': 8,\n",
    "    'seed': 1,\n",
    "    'verbosity': 1,\n",
    "    'scale_pos_weight': 10,\n",
    "}\n",
    "\n",
    "model = xgb.train(xgb_params, dtrain, num_boost_round=175)"
   ]
  },
  {
   "cell_type": "code",
   "execution_count": 21,
   "id": "94177388",
   "metadata": {},
   "outputs": [
    {
     "data": {
      "text/plain": [
       "0.831"
      ]
     },
     "execution_count": 21,
     "metadata": {},
     "output_type": "execute_result"
    }
   ],
   "source": [
    "y_pred = model.predict(dtest)\n",
    "roc_auc_score(y_test, y_pred).round(3)"
   ]
  },
  {
   "cell_type": "markdown",
   "id": "d3b030c0",
   "metadata": {},
   "source": [
    "## Save Model"
   ]
  },
  {
   "cell_type": "code",
   "execution_count": 22,
   "id": "2e2788da",
   "metadata": {},
   "outputs": [],
   "source": [
    "# save model\n",
    "bentoml.xgboost.save_model(\n",
    "    'travel_model',\n",
    "    model,\n",
    "    custom_objects={\n",
    "        'dictVectorizer': dv\n",
    "    },\n",
    "    signatures={\n",
    "        'predict':{\n",
    "            'batchable':True,\n",
    "            'batch_dim': 0,\n",
    "        }\n",
    "    }\n",
    ")"
   ]
  },
  {
   "cell_type": "code",
   "execution_count": 23,
   "id": "be5b407e",
   "metadata": {},
   "outputs": [],
   "source": [
    "customer = {\n",
    "    'age': 26,\n",
    "    'employment_type': 'government_sector',\n",
    "    'graduateornot': 'no',\n",
    "    'annualincome':200000 ,\n",
    "    'familymembers': 4,\n",
    "    'chronicdiseases': 1,\n",
    "    'frequentflyer': 'yes',\n",
    "    'evertravelledabroad': 'no'\n",
    "}"
   ]
  }
 ],
 "metadata": {
  "kernelspec": {
   "display_name": "Python 3.9.12 ('base')",
   "language": "python",
   "name": "python3"
  },
  "language_info": {
   "codemirror_mode": {
    "name": "ipython",
    "version": 3
   },
   "file_extension": ".py",
   "mimetype": "text/x-python",
   "name": "python",
   "nbconvert_exporter": "python",
   "pygments_lexer": "ipython3",
   "version": "3.9.12"
  },
  "vscode": {
   "interpreter": {
    "hash": "a8a63ec78ea32c84482fe7970610cc43c3245c95e9ce1a466286d0918513297a"
   }
  }
 },
 "nbformat": 4,
 "nbformat_minor": 5
}
